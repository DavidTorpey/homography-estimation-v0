{
 "cells": [
  {
   "cell_type": "code",
   "execution_count": 1,
   "id": "initial_id",
   "metadata": {
    "collapsed": true,
    "ExecuteTime": {
     "end_time": "2023-12-02T11:38:36.932229900Z",
     "start_time": "2023-12-02T11:38:36.581683300Z"
    }
   },
   "outputs": [],
   "source": [
    "import pandas as pd\n",
    "from sklearn.ensemble import RandomForestRegressor\n",
    "from sklearn.inspection import permutation_importance\n",
    "import seaborn as sns\n",
    "import matplotlib.pyplot as plt"
   ]
  },
  {
   "cell_type": "code",
   "execution_count": 2,
   "outputs": [],
   "source": [
    "df = pd.read_csv('ablation-results.csv')"
   ],
   "metadata": {
    "collapsed": false,
    "ExecuteTime": {
     "end_time": "2023-12-02T11:38:38.630899300Z",
     "start_time": "2023-12-02T11:38:38.605939500Z"
    }
   },
   "id": "d513d7af5c2c7cc2"
  },
  {
   "cell_type": "code",
   "execution_count": 3,
   "outputs": [],
   "source": [
    "def compute_importance(dff):\n",
    "    data = dff.values[..., 2:].astype(float)\n",
    "    x = data[..., :-1]\n",
    "    y = data[..., -1]\n",
    "    \n",
    "    rf = RandomForestRegressor()\n",
    "    rf.fit(x, y)\n",
    "    result = permutation_importance(\n",
    "        rf, x, y, n_repeats=100, random_state=42, n_jobs=2\n",
    "    )\n",
    "    \n",
    "    res_df = pd.DataFrame()\n",
    "    res_df['Importance'] = result.importances_mean\n",
    "    res_df['Feature'] = list(dff.columns)[2:-1]\n",
    "    res_df['Err'] = result.importances_std\n",
    "    \n",
    "    ax = sns.barplot(data=res_df, x='Feature', y='Importance')\n",
    "    x_coords = [p.get_x() + 0.5 * p.get_width() for p in ax.patches]\n",
    "    y_coords = [p.get_height() for p in ax.patches]\n",
    "    ax.errorbar(x=x_coords, y=y_coords, yerr=res_df[\"Err\"], fmt=\"none\", c=\"k\")\n",
    "    plt.show()"
   ],
   "metadata": {
    "collapsed": false,
    "ExecuteTime": {
     "end_time": "2023-12-02T11:38:39.276090200Z",
     "start_time": "2023-12-02T11:38:39.271016300Z"
    }
   },
   "id": "c172ff230821a8ee"
  },
  {
   "cell_type": "code",
   "execution_count": 9,
   "outputs": [
    {
     "data": {
      "text/plain": "<Figure size 640x480 with 1 Axes>",
      "image/png": "[encoded data removed]"
     },
     "metadata": {},
     "output_type": "display_data"
    }
   ],
   "source": [
    "compute_importance(df)"
   ],
   "metadata": {
    "collapsed": false,
    "ExecuteTime": {
     "end_time": "2023-12-02T11:38:53.631765700Z",
     "start_time": "2023-12-02T11:38:52.455121500Z"
    }
   },
   "id": "9957f37cd4c493ba"
  },
  {
   "cell_type": "code",
   "execution_count": 5,
   "outputs": [
    {
     "data": {
      "text/plain": "0.3122981848184818"
     },
     "execution_count": 5,
     "metadata": {},
     "output_type": "execute_result"
    }
   ],
   "source": [
    "df.query('rotation & ~scale & ~shear & ~translation & model == \"simclr-affine\"')['accuracy'].mean()"
   ],
   "metadata": {
    "collapsed": false,
    "ExecuteTime": {
     "end_time": "2023-12-02T11:38:46.889410800Z",
     "start_time": "2023-12-02T11:38:46.826083Z"
    }
   },
   "id": "d15b945b889d0e43"
  },
  {
   "cell_type": "code",
   "execution_count": 6,
   "outputs": [
    {
     "data": {
      "text/plain": "0.31975533553355334"
     },
     "execution_count": 6,
     "metadata": {},
     "output_type": "execute_result"
    }
   ],
   "source": [
    "df.query('~rotation & scale & ~shear & ~translation & model == \"simclr-affine\"')['accuracy'].mean()"
   ],
   "metadata": {
    "collapsed": false,
    "ExecuteTime": {
     "end_time": "2023-12-02T11:38:47.506705300Z",
     "start_time": "2023-12-02T11:38:47.500010900Z"
    }
   },
   "id": "8a3e6860d7648f85"
  },
  {
   "cell_type": "code",
   "execution_count": 7,
   "outputs": [
    {
     "data": {
      "text/plain": "0.32223036303630365"
     },
     "execution_count": 7,
     "metadata": {},
     "output_type": "execute_result"
    }
   ],
   "source": [
    "df.query('~rotation & ~scale & shear & ~translation & model == \"simclr-affine\"')['accuracy'].mean()"
   ],
   "metadata": {
    "collapsed": false,
    "ExecuteTime": {
     "end_time": "2023-12-02T11:38:48.091029900Z",
     "start_time": "2023-12-02T11:38:48.083620400Z"
    }
   },
   "id": "b2a44bc864bb5e56"
  },
  {
   "cell_type": "code",
   "execution_count": 8,
   "outputs": [
    {
     "data": {
      "text/plain": "0.31000572057205716"
     },
     "execution_count": 8,
     "metadata": {},
     "output_type": "execute_result"
    }
   ],
   "source": [
    "df.query('~rotation & ~scale & ~shear & translation & model == \"simclr-affine\"')['accuracy'].mean()"
   ],
   "metadata": {
    "collapsed": false,
    "ExecuteTime": {
     "end_time": "2023-12-02T11:38:48.670648700Z",
     "start_time": "2023-12-02T11:38:48.622696300Z"
    }
   },
   "id": "4089e96419db88d7"
  },
  {
   "cell_type": "code",
   "execution_count": null,
   "outputs": [],
   "source": [],
   "metadata": {
    "collapsed": false
   },
   "id": "ade9e0104a838005"
  }
 ],
 "metadata": {
  "kernelspec": {
   "display_name": "Python 3",
   "language": "python",
   "name": "python3"
  },
  "language_info": {
   "codemirror_mode": {
    "name": "ipython",
    "version": 2
   },
   "file_extension": ".py",
   "mimetype": "text/x-python",
   "name": "python",
   "nbconvert_exporter": "python",
   "pygments_lexer": "ipython2",
   "version": "2.7.6"
  }
 },
 "nbformat": 4,
 "nbformat_minor": 5
}
