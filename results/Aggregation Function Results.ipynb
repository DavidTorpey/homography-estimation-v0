{
 "cells": [
  {
   "cell_type": "code",
   "execution_count": 9,
   "id": "initial_id",
   "metadata": {
    "collapsed": true,
    "ExecuteTime": {
     "end_time": "2024-02-13T20:21:21.982988200Z",
     "start_time": "2024-02-13T20:21:21.237893900Z"
    }
   },
   "outputs": [],
   "source": [
    "import pandas as pd\n",
    "from scipy.stats import ttest_ind"
   ]
  },
  {
   "cell_type": "code",
   "outputs": [
    {
     "data": {
      "text/plain": "                  model       acc     dataset aggregation-function\n0         simclr-affine  0.536500     cifar10               concat\n1         simclr-affine  0.536200     cifar10               concat\n2         simclr-affine  0.536200     cifar10               concat\n3         simclr-affine  0.538500     cifar10               concat\n4         simclr-affine  0.538000     cifar10               concat\n5         simclr-affine  0.270000    cifar100               concat\n6         simclr-affine  0.272100    cifar100               concat\n7         simclr-affine  0.271100    cifar100               concat\n8         simclr-affine  0.271700    cifar100               concat\n9         simclr-affine  0.273000    cifar100               concat\n10        simclr-affine  0.618917  caltech101               concat\n11        simclr-affine  0.629852  caltech101               concat\n12        simclr-affine  0.615090  caltech101               concat\n13        simclr-affine  0.627665  caltech101               concat\n14        simclr-affine  0.611263  caltech101               concat\n15          byol-affine  0.502200     cifar10               concat\n16          byol-affine  0.501700     cifar10               concat\n17          byol-affine  0.502000     cifar10               concat\n18          byol-affine  0.499800     cifar10               concat\n19          byol-affine  0.504600     cifar10               concat\n20          byol-affine  0.231600    cifar100               concat\n21          byol-affine  0.236500    cifar100               concat\n22          byol-affine  0.235900    cifar100               concat\n23          byol-affine  0.235600    cifar100               concat\n24          byol-affine  0.236100    cifar100               concat\n25          byol-affine  0.576818  caltech101               concat\n26          byol-affine  0.570257  caltech101               concat\n27          byol-affine  0.551668  caltech101               concat\n28          byol-affine  0.562603  caltech101               concat\n29          byol-affine  0.570257  caltech101               concat\n45  barlow_twins-affine  0.516900     cifar10               concat\n46  barlow_twins-affine  0.519200     cifar10               concat\n47  barlow_twins-affine  0.518200     cifar10               concat\n48  barlow_twins-affine  0.518900     cifar10               concat\n49  barlow_twins-affine  0.514000     cifar10               concat\n50  barlow_twins-affine  0.248900    cifar100               concat\n51  barlow_twins-affine  0.248100    cifar100               concat\n52  barlow_twins-affine  0.249500    cifar100               concat\n53  barlow_twins-affine  0.250400    cifar100               concat\n54  barlow_twins-affine  0.250000    cifar100               concat\n55  barlow_twins-affine  0.586113  caltech101               concat\n56  barlow_twins-affine  0.585019  caltech101               concat\n57  barlow_twins-affine  0.587206  caltech101               concat\n58  barlow_twins-affine  0.574084  caltech101               concat\n59  barlow_twins-affine  0.586113  caltech101               concat",
      "text/html": "<div>\n<style scoped>\n    .dataframe tbody tr th:only-of-type {\n        vertical-align: middle;\n    }\n\n    .dataframe tbody tr th {\n        vertical-align: top;\n    }\n\n    .dataframe thead th {\n        text-align: right;\n    }\n</style>\n<table border=\"1\" class=\"dataframe\">\n  <thead>\n    <tr style=\"text-align: right;\">\n      <th></th>\n      <th>model</th>\n      <th>acc</th>\n      <th>dataset</th>\n      <th>aggregation-function</th>\n    </tr>\n  </thead>\n  <tbody>\n    <tr>\n      <th>0</th>\n      <td>simclr-affine</td>\n      <td>0.536500</td>\n      <td>cifar10</td>\n      <td>concat</td>\n    </tr>\n    <tr>\n      <th>1</th>\n      <td>simclr-affine</td>\n      <td>0.536200</td>\n      <td>cifar10</td>\n      <td>concat</td>\n    </tr>\n    <tr>\n      <th>2</th>\n      <td>simclr-affine</td>\n      <td>0.536200</td>\n      <td>cifar10</td>\n      <td>concat</td>\n    </tr>\n    <tr>\n      <th>3</th>\n      <td>simclr-affine</td>\n      <td>0.538500</td>\n      <td>cifar10</td>\n      <td>concat</td>\n    </tr>\n    <tr>\n      <th>4</th>\n      <td>simclr-affine</td>\n      <td>0.538000</td>\n      <td>cifar10</td>\n      <td>concat</td>\n    </tr>\n    <tr>\n      <th>5</th>\n      <td>simclr-affine</td>\n      <td>0.270000</td>\n      <td>cifar100</td>\n      <td>concat</td>\n    </tr>\n    <tr>\n      <th>6</th>\n      <td>simclr-affine</td>\n      <td>0.272100</td>\n      <td>cifar100</td>\n      <td>concat</td>\n    </tr>\n    <tr>\n      <th>7</th>\n      <td>simclr-affine</td>\n      <td>0.271100</td>\n      <td>cifar100</td>\n      <td>concat</td>\n    </tr>\n    <tr>\n      <th>8</th>\n      <td>simclr-affine</td>\n      <td>0.271700</td>\n      <td>cifar100</td>\n      <td>concat</td>\n    </tr>\n    <tr>\n      <th>9</th>\n      <td>simclr-affine</td>\n      <td>0.273000</td>\n      <td>cifar100</td>\n      <td>concat</td>\n    </tr>\n    <tr>\n      <th>10</th>\n      <td>simclr-affine</td>\n      <td>0.618917</td>\n      <td>caltech101</td>\n      <td>concat</td>\n    </tr>\n    <tr>\n      <th>11</th>\n      <td>simclr-affine</td>\n      <td>0.629852</td>\n      <td>caltech101</td>\n      <td>concat</td>\n    </tr>\n    <tr>\n      <th>12</th>\n      <td>simclr-affine</td>\n      <td>0.615090</td>\n      <td>caltech101</td>\n      <td>concat</td>\n    </tr>\n    <tr>\n      <th>13</th>\n      <td>simclr-affine</td>\n      <td>0.627665</td>\n      <td>caltech101</td>\n      <td>concat</td>\n    </tr>\n    <tr>\n      <th>14</th>\n      <td>simclr-affine</td>\n      <td>0.611263</td>\n      <td>caltech101</td>\n      <td>concat</td>\n    </tr>\n    <tr>\n      <th>15</th>\n      <td>byol-affine</td>\n      <td>0.502200</td>\n      <td>cifar10</td>\n      <td>concat</td>\n    </tr>\n    <tr>\n      <th>16</th>\n      <td>byol-affine</td>\n      <td>0.501700</td>\n      <td>cifar10</td>\n      <td>concat</td>\n    </tr>\n    <tr>\n      <th>17</th>\n      <td>byol-affine</td>\n      <td>0.502000</td>\n      <td>cifar10</td>\n      <td>concat</td>\n    </tr>\n    <tr>\n      <th>18</th>\n      <td>byol-affine</td>\n      <td>0.499800</td>\n      <td>cifar10</td>\n      <td>concat</td>\n    </tr>\n    <tr>\n      <th>19</th>\n      <td>byol-affine</td>\n      <td>0.504600</td>\n      <td>cifar10</td>\n      <td>concat</td>\n    </tr>\n    <tr>\n      <th>20</th>\n      <td>byol-affine</td>\n      <td>0.231600</td>\n      <td>cifar100</td>\n      <td>concat</td>\n    </tr>\n    <tr>\n      <th>21</th>\n      <td>byol-affine</td>\n      <td>0.236500</td>\n      <td>cifar100</td>\n      <td>concat</td>\n    </tr>\n    <tr>\n      <th>22</th>\n      <td>byol-affine</td>\n      <td>0.235900</td>\n      <td>cifar100</td>\n      <td>concat</td>\n    </tr>\n    <tr>\n      <th>23</th>\n      <td>byol-affine</td>\n      <td>0.235600</td>\n      <td>cifar100</td>\n      <td>concat</td>\n    </tr>\n    <tr>\n      <th>24</th>\n      <td>byol-affine</td>\n      <td>0.236100</td>\n      <td>cifar100</td>\n      <td>concat</td>\n    </tr>\n    <tr>\n      <th>25</th>\n      <td>byol-affine</td>\n      <td>0.576818</td>\n      <td>caltech101</td>\n      <td>concat</td>\n    </tr>\n    <tr>\n      <th>26</th>\n      <td>byol-affine</td>\n      <td>0.570257</td>\n      <td>caltech101</td>\n      <td>concat</td>\n    </tr>\n    <tr>\n      <th>27</th>\n      <td>byol-affine</td>\n      <td>0.551668</td>\n      <td>caltech101</td>\n      <td>concat</td>\n    </tr>\n    <tr>\n      <th>28</th>\n      <td>byol-affine</td>\n      <td>0.562603</td>\n      <td>caltech101</td>\n      <td>concat</td>\n    </tr>\n    <tr>\n      <th>29</th>\n      <td>byol-affine</td>\n      <td>0.570257</td>\n      <td>caltech101</td>\n      <td>concat</td>\n    </tr>\n    <tr>\n      <th>45</th>\n      <td>barlow_twins-affine</td>\n      <td>0.516900</td>\n      <td>cifar10</td>\n      <td>concat</td>\n    </tr>\n    <tr>\n      <th>46</th>\n      <td>barlow_twins-affine</td>\n      <td>0.519200</td>\n      <td>cifar10</td>\n      <td>concat</td>\n    </tr>\n    <tr>\n      <th>47</th>\n      <td>barlow_twins-affine</td>\n      <td>0.518200</td>\n      <td>cifar10</td>\n      <td>concat</td>\n    </tr>\n    <tr>\n      <th>48</th>\n      <td>barlow_twins-affine</td>\n      <td>0.518900</td>\n      <td>cifar10</td>\n      <td>concat</td>\n    </tr>\n    <tr>\n      <th>49</th>\n      <td>barlow_twins-affine</td>\n      <td>0.514000</td>\n      <td>cifar10</td>\n      <td>concat</td>\n    </tr>\n    <tr>\n      <th>50</th>\n      <td>barlow_twins-affine</td>\n      <td>0.248900</td>\n      <td>cifar100</td>\n      <td>concat</td>\n    </tr>\n    <tr>\n      <th>51</th>\n      <td>barlow_twins-affine</td>\n      <td>0.248100</td>\n      <td>cifar100</td>\n      <td>concat</td>\n    </tr>\n    <tr>\n      <th>52</th>\n      <td>barlow_twins-affine</td>\n      <td>0.249500</td>\n      <td>cifar100</td>\n      <td>concat</td>\n    </tr>\n    <tr>\n      <th>53</th>\n      <td>barlow_twins-affine</td>\n      <td>0.250400</td>\n      <td>cifar100</td>\n      <td>concat</td>\n    </tr>\n    <tr>\n      <th>54</th>\n      <td>barlow_twins-affine</td>\n      <td>0.250000</td>\n      <td>cifar100</td>\n      <td>concat</td>\n    </tr>\n    <tr>\n      <th>55</th>\n      <td>barlow_twins-affine</td>\n      <td>0.586113</td>\n      <td>caltech101</td>\n      <td>concat</td>\n    </tr>\n    <tr>\n      <th>56</th>\n      <td>barlow_twins-affine</td>\n      <td>0.585019</td>\n      <td>caltech101</td>\n      <td>concat</td>\n    </tr>\n    <tr>\n      <th>57</th>\n      <td>barlow_twins-affine</td>\n      <td>0.587206</td>\n      <td>caltech101</td>\n      <td>concat</td>\n    </tr>\n    <tr>\n      <th>58</th>\n      <td>barlow_twins-affine</td>\n      <td>0.574084</td>\n      <td>caltech101</td>\n      <td>concat</td>\n    </tr>\n    <tr>\n      <th>59</th>\n      <td>barlow_twins-affine</td>\n      <td>0.586113</td>\n      <td>caltech101</td>\n      <td>concat</td>\n    </tr>\n  </tbody>\n</table>\n</div>"
     },
     "execution_count": 20,
     "metadata": {},
     "output_type": "execute_result"
    }
   ],
   "source": [
    "concat_df = pd.read_csv('concat-results-raw.csv')\n",
    "concat_df['aggregation-function'] = 'concat'\n",
    "concat_df = concat_df[concat_df['model'] != 'barlow_twins-affine']\n",
    "concat_df['model'] = concat_df['model'].map(lambda x: x if x != 'barlow_twins-affine-updated-betas' else 'barlow_twins-affine')\n",
    "concat_df"
   ],
   "metadata": {
    "collapsed": false,
    "ExecuteTime": {
     "end_time": "2024-02-13T20:27:09.287218200Z",
     "start_time": "2024-02-13T20:27:09.244785500Z"
    }
   },
   "id": "2731d4521cf3c776",
   "execution_count": 20
  },
  {
   "cell_type": "code",
   "outputs": [
    {
     "data": {
      "text/plain": "                   model       acc     dataset aggregation-function\n15         simclr-affine  0.551100     cifar10                 diff\n16         simclr-affine  0.551000     cifar10                 diff\n17         simclr-affine  0.549000     cifar10                 diff\n18         simclr-affine  0.550400     cifar10                 diff\n19         simclr-affine  0.553400     cifar10                 diff\n20         simclr-affine  0.287000    cifar100                 diff\n21         simclr-affine  0.286000    cifar100                 diff\n22         simclr-affine  0.285400    cifar100                 diff\n23         simclr-affine  0.285600    cifar100                 diff\n24         simclr-affine  0.286000    cifar100                 diff\n25         simclr-affine  0.622198  caltech101                 diff\n26         simclr-affine  0.618371  caltech101                 diff\n27         simclr-affine  0.626025  caltech101                 diff\n28         simclr-affine  0.626025  caltech101                 diff\n29         simclr-affine  0.624385  caltech101                 diff\n45           byol-affine  0.525800     cifar10                 diff\n46           byol-affine  0.522200     cifar10                 diff\n47           byol-affine  0.521300     cifar10                 diff\n48           byol-affine  0.523600     cifar10                 diff\n49           byol-affine  0.521500     cifar10                 diff\n50           byol-affine  0.256300    cifar100                 diff\n51           byol-affine  0.261000    cifar100                 diff\n52           byol-affine  0.259600    cifar100                 diff\n53           byol-affine  0.261600    cifar100                 diff\n54           byol-affine  0.254600    cifar100                 diff\n55           byol-affine  0.578458  caltech101                 diff\n56           byol-affine  0.588300  caltech101                 diff\n57           byol-affine  0.593767  caltech101                 diff\n58           byol-affine  0.576271  caltech101                 diff\n59           byol-affine  0.585566  caltech101                 diff\n90   barlow_twins-affine  0.531700     cifar10                 diff\n91   barlow_twins-affine  0.529600     cifar10                 diff\n92   barlow_twins-affine  0.526500     cifar10                 diff\n93   barlow_twins-affine  0.528000     cifar10                 diff\n94   barlow_twins-affine  0.524800     cifar10                 diff\n95   barlow_twins-affine  0.262500    cifar100                 diff\n96   barlow_twins-affine  0.263100    cifar100                 diff\n97   barlow_twins-affine  0.262900    cifar100                 diff\n98   barlow_twins-affine  0.260700    cifar100                 diff\n99   barlow_twins-affine  0.262100    cifar100                 diff\n100  barlow_twins-affine  0.593767  caltech101                 diff\n101  barlow_twins-affine  0.595407  caltech101                 diff\n102  barlow_twins-affine  0.571350  caltech101                 diff\n103  barlow_twins-affine  0.583926  caltech101                 diff\n104  barlow_twins-affine  0.589393  caltech101                 diff",
      "text/html": "<div>\n<style scoped>\n    .dataframe tbody tr th:only-of-type {\n        vertical-align: middle;\n    }\n\n    .dataframe tbody tr th {\n        vertical-align: top;\n    }\n\n    .dataframe thead th {\n        text-align: right;\n    }\n</style>\n<table border=\"1\" class=\"dataframe\">\n  <thead>\n    <tr style=\"text-align: right;\">\n      <th></th>\n      <th>model</th>\n      <th>acc</th>\n      <th>dataset</th>\n      <th>aggregation-function</th>\n    </tr>\n  </thead>\n  <tbody>\n    <tr>\n      <th>15</th>\n      <td>simclr-affine</td>\n      <td>0.551100</td>\n      <td>cifar10</td>\n      <td>diff</td>\n    </tr>\n    <tr>\n      <th>16</th>\n      <td>simclr-affine</td>\n      <td>0.551000</td>\n      <td>cifar10</td>\n      <td>diff</td>\n    </tr>\n    <tr>\n      <th>17</th>\n      <td>simclr-affine</td>\n      <td>0.549000</td>\n      <td>cifar10</td>\n      <td>diff</td>\n    </tr>\n    <tr>\n      <th>18</th>\n      <td>simclr-affine</td>\n      <td>0.550400</td>\n      <td>cifar10</td>\n      <td>diff</td>\n    </tr>\n    <tr>\n      <th>19</th>\n      <td>simclr-affine</td>\n      <td>0.553400</td>\n      <td>cifar10</td>\n      <td>diff</td>\n    </tr>\n    <tr>\n      <th>20</th>\n      <td>simclr-affine</td>\n      <td>0.287000</td>\n      <td>cifar100</td>\n      <td>diff</td>\n    </tr>\n    <tr>\n      <th>21</th>\n      <td>simclr-affine</td>\n      <td>0.286000</td>\n      <td>cifar100</td>\n      <td>diff</td>\n    </tr>\n    <tr>\n      <th>22</th>\n      <td>simclr-affine</td>\n      <td>0.285400</td>\n      <td>cifar100</td>\n      <td>diff</td>\n    </tr>\n    <tr>\n      <th>23</th>\n      <td>simclr-affine</td>\n      <td>0.285600</td>\n      <td>cifar100</td>\n      <td>diff</td>\n    </tr>\n    <tr>\n      <th>24</th>\n      <td>simclr-affine</td>\n      <td>0.286000</td>\n      <td>cifar100</td>\n      <td>diff</td>\n    </tr>\n    <tr>\n      <th>25</th>\n      <td>simclr-affine</td>\n      <td>0.622198</td>\n      <td>caltech101</td>\n      <td>diff</td>\n    </tr>\n    <tr>\n      <th>26</th>\n      <td>simclr-affine</td>\n      <td>0.618371</td>\n      <td>caltech101</td>\n      <td>diff</td>\n    </tr>\n    <tr>\n      <th>27</th>\n      <td>simclr-affine</td>\n      <td>0.626025</td>\n      <td>caltech101</td>\n      <td>diff</td>\n    </tr>\n    <tr>\n      <th>28</th>\n      <td>simclr-affine</td>\n      <td>0.626025</td>\n      <td>caltech101</td>\n      <td>diff</td>\n    </tr>\n    <tr>\n      <th>29</th>\n      <td>simclr-affine</td>\n      <td>0.624385</td>\n      <td>caltech101</td>\n      <td>diff</td>\n    </tr>\n    <tr>\n      <th>45</th>\n      <td>byol-affine</td>\n      <td>0.525800</td>\n      <td>cifar10</td>\n      <td>diff</td>\n    </tr>\n    <tr>\n      <th>46</th>\n      <td>byol-affine</td>\n      <td>0.522200</td>\n      <td>cifar10</td>\n      <td>diff</td>\n    </tr>\n    <tr>\n      <th>47</th>\n      <td>byol-affine</td>\n      <td>0.521300</td>\n      <td>cifar10</td>\n      <td>diff</td>\n    </tr>\n    <tr>\n      <th>48</th>\n      <td>byol-affine</td>\n      <td>0.523600</td>\n      <td>cifar10</td>\n      <td>diff</td>\n    </tr>\n    <tr>\n      <th>49</th>\n      <td>byol-affine</td>\n      <td>0.521500</td>\n      <td>cifar10</td>\n      <td>diff</td>\n    </tr>\n    <tr>\n      <th>50</th>\n      <td>byol-affine</td>\n      <td>0.256300</td>\n      <td>cifar100</td>\n      <td>diff</td>\n    </tr>\n    <tr>\n      <th>51</th>\n      <td>byol-affine</td>\n      <td>0.261000</td>\n      <td>cifar100</td>\n      <td>diff</td>\n    </tr>\n    <tr>\n      <th>52</th>\n      <td>byol-affine</td>\n      <td>0.259600</td>\n      <td>cifar100</td>\n      <td>diff</td>\n    </tr>\n    <tr>\n      <th>53</th>\n      <td>byol-affine</td>\n      <td>0.261600</td>\n      <td>cifar100</td>\n      <td>diff</td>\n    </tr>\n    <tr>\n      <th>54</th>\n      <td>byol-affine</td>\n      <td>0.254600</td>\n      <td>cifar100</td>\n      <td>diff</td>\n    </tr>\n    <tr>\n      <th>55</th>\n      <td>byol-affine</td>\n      <td>0.578458</td>\n      <td>caltech101</td>\n      <td>diff</td>\n    </tr>\n    <tr>\n      <th>56</th>\n      <td>byol-affine</td>\n      <td>0.588300</td>\n      <td>caltech101</td>\n      <td>diff</td>\n    </tr>\n    <tr>\n      <th>57</th>\n      <td>byol-affine</td>\n      <td>0.593767</td>\n      <td>caltech101</td>\n      <td>diff</td>\n    </tr>\n    <tr>\n      <th>58</th>\n      <td>byol-affine</td>\n      <td>0.576271</td>\n      <td>caltech101</td>\n      <td>diff</td>\n    </tr>\n    <tr>\n      <th>59</th>\n      <td>byol-affine</td>\n      <td>0.585566</td>\n      <td>caltech101</td>\n      <td>diff</td>\n    </tr>\n    <tr>\n      <th>90</th>\n      <td>barlow_twins-affine</td>\n      <td>0.531700</td>\n      <td>cifar10</td>\n      <td>diff</td>\n    </tr>\n    <tr>\n      <th>91</th>\n      <td>barlow_twins-affine</td>\n      <td>0.529600</td>\n      <td>cifar10</td>\n      <td>diff</td>\n    </tr>\n    <tr>\n      <th>92</th>\n      <td>barlow_twins-affine</td>\n      <td>0.526500</td>\n      <td>cifar10</td>\n      <td>diff</td>\n    </tr>\n    <tr>\n      <th>93</th>\n      <td>barlow_twins-affine</td>\n      <td>0.528000</td>\n      <td>cifar10</td>\n      <td>diff</td>\n    </tr>\n    <tr>\n      <th>94</th>\n      <td>barlow_twins-affine</td>\n      <td>0.524800</td>\n      <td>cifar10</td>\n      <td>diff</td>\n    </tr>\n    <tr>\n      <th>95</th>\n      <td>barlow_twins-affine</td>\n      <td>0.262500</td>\n      <td>cifar100</td>\n      <td>diff</td>\n    </tr>\n    <tr>\n      <th>96</th>\n      <td>barlow_twins-affine</td>\n      <td>0.263100</td>\n      <td>cifar100</td>\n      <td>diff</td>\n    </tr>\n    <tr>\n      <th>97</th>\n      <td>barlow_twins-affine</td>\n      <td>0.262900</td>\n      <td>cifar100</td>\n      <td>diff</td>\n    </tr>\n    <tr>\n      <th>98</th>\n      <td>barlow_twins-affine</td>\n      <td>0.260700</td>\n      <td>cifar100</td>\n      <td>diff</td>\n    </tr>\n    <tr>\n      <th>99</th>\n      <td>barlow_twins-affine</td>\n      <td>0.262100</td>\n      <td>cifar100</td>\n      <td>diff</td>\n    </tr>\n    <tr>\n      <th>100</th>\n      <td>barlow_twins-affine</td>\n      <td>0.593767</td>\n      <td>caltech101</td>\n      <td>diff</td>\n    </tr>\n    <tr>\n      <th>101</th>\n      <td>barlow_twins-affine</td>\n      <td>0.595407</td>\n      <td>caltech101</td>\n      <td>diff</td>\n    </tr>\n    <tr>\n      <th>102</th>\n      <td>barlow_twins-affine</td>\n      <td>0.571350</td>\n      <td>caltech101</td>\n      <td>diff</td>\n    </tr>\n    <tr>\n      <th>103</th>\n      <td>barlow_twins-affine</td>\n      <td>0.583926</td>\n      <td>caltech101</td>\n      <td>diff</td>\n    </tr>\n    <tr>\n      <th>104</th>\n      <td>barlow_twins-affine</td>\n      <td>0.589393</td>\n      <td>caltech101</td>\n      <td>diff</td>\n    </tr>\n  </tbody>\n</table>\n</div>"
     },
     "execution_count": 23,
     "metadata": {},
     "output_type": "execute_result"
    }
   ],
   "source": [
    "baseline_df = pd.read_csv('main-results-raw.csv')\n",
    "baseline_df['aggregation-function'] = 'diff'\n",
    "baseline_df = baseline_df[baseline_df['model'] != 'barlow_twins-affine']\n",
    "baseline_df['model'] = baseline_df['model'].map(lambda x: x if x != 'barlow_twins-affine-investigate-losses' else 'barlow_twins-affine')\n",
    "baseline_df = baseline_df[~baseline_df['model'].isin(['simclr', 'byol', 'barlow_twins'])]\n",
    "baseline_df"
   ],
   "metadata": {
    "collapsed": false,
    "ExecuteTime": {
     "end_time": "2024-02-13T20:28:21.875387200Z",
     "start_time": "2024-02-13T20:28:21.847838Z"
    }
   },
   "id": "4f4ad58d5de057",
   "execution_count": 23
  },
  {
   "cell_type": "code",
   "outputs": [
    {
     "data": {
      "text/plain": "                   model       acc     dataset aggregation-function\n0          simclr-affine  0.536500     cifar10               concat\n1          simclr-affine  0.536200     cifar10               concat\n2          simclr-affine  0.536200     cifar10               concat\n3          simclr-affine  0.538500     cifar10               concat\n4          simclr-affine  0.538000     cifar10               concat\n..                   ...       ...         ...                  ...\n100  barlow_twins-affine  0.593767  caltech101                 diff\n101  barlow_twins-affine  0.595407  caltech101                 diff\n102  barlow_twins-affine  0.571350  caltech101                 diff\n103  barlow_twins-affine  0.583926  caltech101                 diff\n104  barlow_twins-affine  0.589393  caltech101                 diff\n\n[90 rows x 4 columns]",
      "text/html": "<div>\n<style scoped>\n    .dataframe tbody tr th:only-of-type {\n        vertical-align: middle;\n    }\n\n    .dataframe tbody tr th {\n        vertical-align: top;\n    }\n\n    .dataframe thead th {\n        text-align: right;\n    }\n</style>\n<table border=\"1\" class=\"dataframe\">\n  <thead>\n    <tr style=\"text-align: right;\">\n      <th></th>\n      <th>model</th>\n      <th>acc</th>\n      <th>dataset</th>\n      <th>aggregation-function</th>\n    </tr>\n  </thead>\n  <tbody>\n    <tr>\n      <th>0</th>\n      <td>simclr-affine</td>\n      <td>0.536500</td>\n      <td>cifar10</td>\n      <td>concat</td>\n    </tr>\n    <tr>\n      <th>1</th>\n      <td>simclr-affine</td>\n      <td>0.536200</td>\n      <td>cifar10</td>\n      <td>concat</td>\n    </tr>\n    <tr>\n      <th>2</th>\n      <td>simclr-affine</td>\n      <td>0.536200</td>\n      <td>cifar10</td>\n      <td>concat</td>\n    </tr>\n    <tr>\n      <th>3</th>\n      <td>simclr-affine</td>\n      <td>0.538500</td>\n      <td>cifar10</td>\n      <td>concat</td>\n    </tr>\n    <tr>\n      <th>4</th>\n      <td>simclr-affine</td>\n      <td>0.538000</td>\n      <td>cifar10</td>\n      <td>concat</td>\n    </tr>\n    <tr>\n      <th>...</th>\n      <td>...</td>\n      <td>...</td>\n      <td>...</td>\n      <td>...</td>\n    </tr>\n    <tr>\n      <th>100</th>\n      <td>barlow_twins-affine</td>\n      <td>0.593767</td>\n      <td>caltech101</td>\n      <td>diff</td>\n    </tr>\n    <tr>\n      <th>101</th>\n      <td>barlow_twins-affine</td>\n      <td>0.595407</td>\n      <td>caltech101</td>\n      <td>diff</td>\n    </tr>\n    <tr>\n      <th>102</th>\n      <td>barlow_twins-affine</td>\n      <td>0.571350</td>\n      <td>caltech101</td>\n      <td>diff</td>\n    </tr>\n    <tr>\n      <th>103</th>\n      <td>barlow_twins-affine</td>\n      <td>0.583926</td>\n      <td>caltech101</td>\n      <td>diff</td>\n    </tr>\n    <tr>\n      <th>104</th>\n      <td>barlow_twins-affine</td>\n      <td>0.589393</td>\n      <td>caltech101</td>\n      <td>diff</td>\n    </tr>\n  </tbody>\n</table>\n<p>90 rows × 4 columns</p>\n</div>"
     },
     "execution_count": 24,
     "metadata": {},
     "output_type": "execute_result"
    }
   ],
   "source": [
    "df = pd.concat([concat_df, baseline_df])\n",
    "df"
   ],
   "metadata": {
    "collapsed": false,
    "ExecuteTime": {
     "end_time": "2024-02-13T20:28:22.520532200Z",
     "start_time": "2024-02-13T20:28:22.509490100Z"
    }
   },
   "id": "e9780ad10022c818",
   "execution_count": 24
  },
  {
   "cell_type": "code",
   "outputs": [
    {
     "name": "stdout",
     "output_type": "stream",
     "text": [
      "5 5 simclr-affine cifar10 Ttest_indResult(statistic=-16.11709304921594, pvalue=2.20540363491241e-07)\n",
      "5 5 simclr-affine cifar100 Ttest_indResult(statistic=-25.20147284096108, pvalue=6.580183468397965e-09)\n",
      "NOT SIGNIFICANT 5 5 simclr-affine caltech101 Ttest_indResult(statistic=-0.7373105584964178, pvalue=0.48199577667268756)\n",
      "5 5 byol-affine cifar10 Ttest_indResult(statistic=-18.395269731040848, pvalue=7.852880775625272e-08)\n",
      "5 5 byol-affine cifar100 Ttest_indResult(statistic=-14.40463689823924, pvalue=5.272710759874978e-07)\n",
      "5 5 byol-affine caltech101 Ttest_indResult(statistic=-3.384233160032446, pvalue=0.009581401943395592)\n",
      "5 5 barlow_twins-affine cifar10 Ttest_indResult(statistic=-6.9967006326189365, pvalue=0.00011301016480652443)\n",
      "5 5 barlow_twins-affine cifar100 Ttest_indResult(statistic=-21.865082766374325, pvalue=2.019573609802651e-08)\n",
      "NOT SIGNIFICANT 5 5 barlow_twins-affine caltech101 Ttest_indResult(statistic=-0.6157937436380501, pvalue=0.5551414670284931)\n"
     ]
    }
   ],
   "source": [
    "for model in df['model'].unique():\n",
    "    for dataset in df['dataset'].unique():\n",
    "        subset = df.query(f'model == \"{model}\" & dataset == \"{dataset}\"')\n",
    "        baseline = subset.query('`aggregation-function` == \"diff\"')['acc'].values\n",
    "        variant = subset.query('`aggregation-function` == \"concat\"')['acc'].values\n",
    "        ttest = ttest_ind(variant, baseline)\n",
    "        if ttest.pvalue < 0.05:\n",
    "            print(len(baseline), len(variant), model, dataset, ttest)\n",
    "        else:\n",
    "            print('NOT SIGNIFICANT', len(baseline), len(variant), model, dataset, ttest)"
   ],
   "metadata": {
    "collapsed": false,
    "ExecuteTime": {
     "end_time": "2024-02-13T21:46:54.997618300Z",
     "start_time": "2024-02-13T21:46:54.888385200Z"
    }
   },
   "id": "c20e5115e9a472bb",
   "execution_count": 29
  },
  {
   "cell_type": "code",
   "outputs": [],
   "source": [],
   "metadata": {
    "collapsed": false
   },
   "id": "2e413e16aab1671b"
  }
 ],
 "metadata": {
  "kernelspec": {
   "display_name": "Python 3",
   "language": "python",
   "name": "python3"
  },
  "language_info": {
   "codemirror_mode": {
    "name": "ipython",
    "version": 2
   },
   "file_extension": ".py",
   "mimetype": "text/x-python",
   "name": "python",
   "nbconvert_exporter": "python",
   "pygments_lexer": "ipython2",
   "version": "2.7.6"
  }
 },
 "nbformat": 4,
 "nbformat_minor": 5
}
