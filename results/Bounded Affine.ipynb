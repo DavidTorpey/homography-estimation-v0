{
 "cells": [
  {
   "cell_type": "code",
   "execution_count": 291,
   "id": "initial_id",
   "metadata": {
    "collapsed": true
   },
   "outputs": [],
   "source": [
    "import numpy as np\n",
    "from skimage import transform\n",
    "from skimage.data import astronaut\n",
    "from PIL import Image\n",
    "from torchvision.transforms.functional import _get_inverse_affine_matrix\n",
    "import cv2 as cv\n",
    "import matplotlib.pyplot as plt\n",
    "\n",
    "from he.data.bounded_affine import get_corners\n",
    "from he.data.maxrect import get_intersection, get_maximal_rectangle\n",
    "from he.data.new_transforms import RandomAffine"
   ]
  },
  {
   "cell_type": "code",
   "execution_count": 292,
   "outputs": [],
   "source": [
    "def bounded_affine(image, angle, translation, scale, shear):\n",
    "    image_np = np.asarray(image)\n",
    "    height, width = image_np.shape[:2]\n",
    "    \n",
    "    center = (image.size[0] * 0.5 + 0.5, image.size[1] * 0.5 + 0.5)\n",
    "    matrix = _get_inverse_affine_matrix(center, angle, translation, scale, shear, inverted=False)\n",
    "    \n",
    "    transformation_matrix = transform.AffineTransform(\n",
    "        matrix=np.array(matrix + [0, 0, 1]).reshape(3, 3)\n",
    "    )\n",
    "    \n",
    "    warped = transform.warp(image_np, transformation_matrix.inverse)\n",
    "    \n",
    "    original_corners = get_corners(image_np)\n",
    "    transformed_corners = transformation_matrix(original_corners)\n",
    "    \n",
    "    coordinates1 = [(x, y) for x, y in transformed_corners]\n",
    "    _, coordinates = get_intersection([coordinates1, ])\n",
    "    (x4, y4), (x2, y2) = get_maximal_rectangle(list(coordinates))\n",
    "    x1 = int(x4)\n",
    "    y1 = int(y2)\n",
    "    x3 = int(x2)\n",
    "    y3 = int(y4)\n",
    "    aa = (np.clip(x1, 0, width), np.clip(y1, 0, height))\n",
    "    bb = (np.clip(x3, 0, width), np.clip(y3, 0, height))\n",
    "    new = Image.fromarray((warped[bb[1]:aa[1], aa[0]:bb[0]] * 255.0).astype('uint8'))\n",
    "    return new, (bb[1], aa[1], aa[0], bb[0])"
   ],
   "metadata": {
    "collapsed": false
   },
   "id": "84534c8c97c15962"
  },
  {
   "cell_type": "code",
   "execution_count": 293,
   "outputs": [],
   "source": [
    "image = Image.fromarray(astronaut())"
   ],
   "metadata": {
    "collapsed": false
   },
   "id": "4661e430047a14c7"
  },
  {
   "cell_type": "code",
   "execution_count": 294,
   "outputs": [],
   "source": [
    "plt.imshow(image)\n",
    "plt.axis('off')\n",
    "plt.savefig('bounded-viz-original.png')"
   ],
   "metadata": {
    "collapsed": false
   },
   "id": "4539516247ecddb7"
  },
  {
   "cell_type": "code",
   "execution_count": 295,
   "outputs": [],
   "source": [
    "degrees = 45\n",
    "translate = (0.25, 0.25)\n",
    "scale = (0.7, 1.3)\n",
    "shear = [-25, 25, -25, 25]\n",
    "\n",
    "random_affine = RandomAffine(\n",
    "    degrees=degrees,\n",
    "    translate=translate,\n",
    "    scale=scale,\n",
    "    shear=shear\n",
    ")"
   ],
   "metadata": {
    "collapsed": false
   },
   "id": "a78b1245307edf4d"
  },
  {
   "cell_type": "code",
   "execution_count": 296,
   "outputs": [],
   "source": [
    "xt, params = random_affine(image)\n",
    "angle, (tx, ty), scale, shear = params\n",
    "print(params)"
   ],
   "metadata": {
    "collapsed": false
   },
   "id": "8b3a78bf65394d0a"
  },
  {
   "cell_type": "code",
   "execution_count": 297,
   "outputs": [],
   "source": [
    "xt"
   ],
   "metadata": {
    "collapsed": false
   },
   "id": "7f02d5d00e72cb5e"
  },
  {
   "cell_type": "code",
   "execution_count": 298,
   "outputs": [],
   "source": [
    "new = bounded_affine(image, angle, [tx, ty], scale, shear)"
   ],
   "metadata": {
    "collapsed": false
   },
   "id": "8e0254485e14fe14"
  },
  {
   "cell_type": "code",
   "execution_count": 299,
   "outputs": [],
   "source": [
    "new, params = new"
   ],
   "metadata": {
    "collapsed": false
   },
   "id": "e4ca47fb798213eb"
  },
  {
   "cell_type": "code",
   "execution_count": 300,
   "outputs": [],
   "source": [
    "params"
   ],
   "metadata": {
    "collapsed": false
   },
   "id": "c732d9d61afea223"
  },
  {
   "cell_type": "code",
   "execution_count": 301,
   "outputs": [],
   "source": [
    "new"
   ],
   "metadata": {
    "collapsed": false
   },
   "id": "f4d201378fca7a7b"
  },
  {
   "cell_type": "code",
   "execution_count": 302,
   "outputs": [],
   "source": [
    "n = np.array(xt)\n",
    "cv.rectangle(n, (params[2], params[0]), (params[3], params[1]), (255, 0, 0), 5)"
   ],
   "metadata": {
    "collapsed": false
   },
   "id": "c8ca1f3918f127cb"
  },
  {
   "cell_type": "code",
   "execution_count": 303,
   "outputs": [],
   "source": [
    "plt.imshow(n)\n",
    "plt.axis('off')\n",
    "plt.savefig('bounded-viz-inscribed.png')"
   ],
   "metadata": {
    "collapsed": false
   },
   "id": "39ca89c953eebd53"
  },
  {
   "cell_type": "code",
   "execution_count": 303,
   "outputs": [],
   "source": [],
   "metadata": {
    "collapsed": false
   },
   "id": "6fe1a8c524cc9842"
  }
 ],
 "metadata": {
  "kernelspec": {
   "display_name": "Python 3",
   "language": "python",
   "name": "python3"
  },
  "language_info": {
   "codemirror_mode": {
    "name": "ipython",
    "version": 2
   },
   "file_extension": ".py",
   "mimetype": "text/x-python",
   "name": "python",
   "nbconvert_exporter": "python",
   "pygments_lexer": "ipython2",
   "version": "2.7.6"
  }
 },
 "nbformat": 4,
 "nbformat_minor": 5
}
