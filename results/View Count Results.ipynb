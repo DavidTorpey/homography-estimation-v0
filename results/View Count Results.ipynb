{
 "cells": [
  {
   "cell_type": "code",
   "execution_count": 1,
   "id": "initial_id",
   "metadata": {
    "collapsed": true,
    "ExecuteTime": {
     "end_time": "2024-02-13T20:33:46.912355500Z",
     "start_time": "2024-02-13T20:33:46.380123700Z"
    }
   },
   "outputs": [],
   "source": [
    "import pandas as pd\n",
    "from scipy.stats import ttest_ind"
   ]
  },
  {
   "cell_type": "code",
   "outputs": [
    {
     "data": {
      "text/plain": "                   model       acc     dataset view-count\n15         simclr-affine  0.551100     cifar10          1\n16         simclr-affine  0.551000     cifar10          1\n17         simclr-affine  0.549000     cifar10          1\n18         simclr-affine  0.550400     cifar10          1\n19         simclr-affine  0.553400     cifar10          1\n20         simclr-affine  0.287000    cifar100          1\n21         simclr-affine  0.286000    cifar100          1\n22         simclr-affine  0.285400    cifar100          1\n23         simclr-affine  0.285600    cifar100          1\n24         simclr-affine  0.286000    cifar100          1\n25         simclr-affine  0.622198  caltech101          1\n26         simclr-affine  0.618371  caltech101          1\n27         simclr-affine  0.626025  caltech101          1\n28         simclr-affine  0.626025  caltech101          1\n29         simclr-affine  0.624385  caltech101          1\n45           byol-affine  0.525800     cifar10          1\n46           byol-affine  0.522200     cifar10          1\n47           byol-affine  0.521300     cifar10          1\n48           byol-affine  0.523600     cifar10          1\n49           byol-affine  0.521500     cifar10          1\n50           byol-affine  0.256300    cifar100          1\n51           byol-affine  0.261000    cifar100          1\n52           byol-affine  0.259600    cifar100          1\n53           byol-affine  0.261600    cifar100          1\n54           byol-affine  0.254600    cifar100          1\n55           byol-affine  0.578458  caltech101          1\n56           byol-affine  0.588300  caltech101          1\n57           byol-affine  0.593767  caltech101          1\n58           byol-affine  0.576271  caltech101          1\n59           byol-affine  0.585566  caltech101          1\n90   barlow_twins-affine  0.531700     cifar10          1\n91   barlow_twins-affine  0.529600     cifar10          1\n92   barlow_twins-affine  0.526500     cifar10          1\n93   barlow_twins-affine  0.528000     cifar10          1\n94   barlow_twins-affine  0.524800     cifar10          1\n95   barlow_twins-affine  0.262500    cifar100          1\n96   barlow_twins-affine  0.263100    cifar100          1\n97   barlow_twins-affine  0.262900    cifar100          1\n98   barlow_twins-affine  0.260700    cifar100          1\n99   barlow_twins-affine  0.262100    cifar100          1\n100  barlow_twins-affine  0.593767  caltech101          1\n101  barlow_twins-affine  0.595407  caltech101          1\n102  barlow_twins-affine  0.571350  caltech101          1\n103  barlow_twins-affine  0.583926  caltech101          1\n104  barlow_twins-affine  0.589393  caltech101          1",
      "text/html": "<div>\n<style scoped>\n    .dataframe tbody tr th:only-of-type {\n        vertical-align: middle;\n    }\n\n    .dataframe tbody tr th {\n        vertical-align: top;\n    }\n\n    .dataframe thead th {\n        text-align: right;\n    }\n</style>\n<table border=\"1\" class=\"dataframe\">\n  <thead>\n    <tr style=\"text-align: right;\">\n      <th></th>\n      <th>model</th>\n      <th>acc</th>\n      <th>dataset</th>\n      <th>view-count</th>\n    </tr>\n  </thead>\n  <tbody>\n    <tr>\n      <th>15</th>\n      <td>simclr-affine</td>\n      <td>0.551100</td>\n      <td>cifar10</td>\n      <td>1</td>\n    </tr>\n    <tr>\n      <th>16</th>\n      <td>simclr-affine</td>\n      <td>0.551000</td>\n      <td>cifar10</td>\n      <td>1</td>\n    </tr>\n    <tr>\n      <th>17</th>\n      <td>simclr-affine</td>\n      <td>0.549000</td>\n      <td>cifar10</td>\n      <td>1</td>\n    </tr>\n    <tr>\n      <th>18</th>\n      <td>simclr-affine</td>\n      <td>0.550400</td>\n      <td>cifar10</td>\n      <td>1</td>\n    </tr>\n    <tr>\n      <th>19</th>\n      <td>simclr-affine</td>\n      <td>0.553400</td>\n      <td>cifar10</td>\n      <td>1</td>\n    </tr>\n    <tr>\n      <th>20</th>\n      <td>simclr-affine</td>\n      <td>0.287000</td>\n      <td>cifar100</td>\n      <td>1</td>\n    </tr>\n    <tr>\n      <th>21</th>\n      <td>simclr-affine</td>\n      <td>0.286000</td>\n      <td>cifar100</td>\n      <td>1</td>\n    </tr>\n    <tr>\n      <th>22</th>\n      <td>simclr-affine</td>\n      <td>0.285400</td>\n      <td>cifar100</td>\n      <td>1</td>\n    </tr>\n    <tr>\n      <th>23</th>\n      <td>simclr-affine</td>\n      <td>0.285600</td>\n      <td>cifar100</td>\n      <td>1</td>\n    </tr>\n    <tr>\n      <th>24</th>\n      <td>simclr-affine</td>\n      <td>0.286000</td>\n      <td>cifar100</td>\n      <td>1</td>\n    </tr>\n    <tr>\n      <th>25</th>\n      <td>simclr-affine</td>\n      <td>0.622198</td>\n      <td>caltech101</td>\n      <td>1</td>\n    </tr>\n    <tr>\n      <th>26</th>\n      <td>simclr-affine</td>\n      <td>0.618371</td>\n      <td>caltech101</td>\n      <td>1</td>\n    </tr>\n    <tr>\n      <th>27</th>\n      <td>simclr-affine</td>\n      <td>0.626025</td>\n      <td>caltech101</td>\n      <td>1</td>\n    </tr>\n    <tr>\n      <th>28</th>\n      <td>simclr-affine</td>\n      <td>0.626025</td>\n      <td>caltech101</td>\n      <td>1</td>\n    </tr>\n    <tr>\n      <th>29</th>\n      <td>simclr-affine</td>\n      <td>0.624385</td>\n      <td>caltech101</td>\n      <td>1</td>\n    </tr>\n    <tr>\n      <th>45</th>\n      <td>byol-affine</td>\n      <td>0.525800</td>\n      <td>cifar10</td>\n      <td>1</td>\n    </tr>\n    <tr>\n      <th>46</th>\n      <td>byol-affine</td>\n      <td>0.522200</td>\n      <td>cifar10</td>\n      <td>1</td>\n    </tr>\n    <tr>\n      <th>47</th>\n      <td>byol-affine</td>\n      <td>0.521300</td>\n      <td>cifar10</td>\n      <td>1</td>\n    </tr>\n    <tr>\n      <th>48</th>\n      <td>byol-affine</td>\n      <td>0.523600</td>\n      <td>cifar10</td>\n      <td>1</td>\n    </tr>\n    <tr>\n      <th>49</th>\n      <td>byol-affine</td>\n      <td>0.521500</td>\n      <td>cifar10</td>\n      <td>1</td>\n    </tr>\n    <tr>\n      <th>50</th>\n      <td>byol-affine</td>\n      <td>0.256300</td>\n      <td>cifar100</td>\n      <td>1</td>\n    </tr>\n    <tr>\n      <th>51</th>\n      <td>byol-affine</td>\n      <td>0.261000</td>\n      <td>cifar100</td>\n      <td>1</td>\n    </tr>\n    <tr>\n      <th>52</th>\n      <td>byol-affine</td>\n      <td>0.259600</td>\n      <td>cifar100</td>\n      <td>1</td>\n    </tr>\n    <tr>\n      <th>53</th>\n      <td>byol-affine</td>\n      <td>0.261600</td>\n      <td>cifar100</td>\n      <td>1</td>\n    </tr>\n    <tr>\n      <th>54</th>\n      <td>byol-affine</td>\n      <td>0.254600</td>\n      <td>cifar100</td>\n      <td>1</td>\n    </tr>\n    <tr>\n      <th>55</th>\n      <td>byol-affine</td>\n      <td>0.578458</td>\n      <td>caltech101</td>\n      <td>1</td>\n    </tr>\n    <tr>\n      <th>56</th>\n      <td>byol-affine</td>\n      <td>0.588300</td>\n      <td>caltech101</td>\n      <td>1</td>\n    </tr>\n    <tr>\n      <th>57</th>\n      <td>byol-affine</td>\n      <td>0.593767</td>\n      <td>caltech101</td>\n      <td>1</td>\n    </tr>\n    <tr>\n      <th>58</th>\n      <td>byol-affine</td>\n      <td>0.576271</td>\n      <td>caltech101</td>\n      <td>1</td>\n    </tr>\n    <tr>\n      <th>59</th>\n      <td>byol-affine</td>\n      <td>0.585566</td>\n      <td>caltech101</td>\n      <td>1</td>\n    </tr>\n    <tr>\n      <th>90</th>\n      <td>barlow_twins-affine</td>\n      <td>0.531700</td>\n      <td>cifar10</td>\n      <td>1</td>\n    </tr>\n    <tr>\n      <th>91</th>\n      <td>barlow_twins-affine</td>\n      <td>0.529600</td>\n      <td>cifar10</td>\n      <td>1</td>\n    </tr>\n    <tr>\n      <th>92</th>\n      <td>barlow_twins-affine</td>\n      <td>0.526500</td>\n      <td>cifar10</td>\n      <td>1</td>\n    </tr>\n    <tr>\n      <th>93</th>\n      <td>barlow_twins-affine</td>\n      <td>0.528000</td>\n      <td>cifar10</td>\n      <td>1</td>\n    </tr>\n    <tr>\n      <th>94</th>\n      <td>barlow_twins-affine</td>\n      <td>0.524800</td>\n      <td>cifar10</td>\n      <td>1</td>\n    </tr>\n    <tr>\n      <th>95</th>\n      <td>barlow_twins-affine</td>\n      <td>0.262500</td>\n      <td>cifar100</td>\n      <td>1</td>\n    </tr>\n    <tr>\n      <th>96</th>\n      <td>barlow_twins-affine</td>\n      <td>0.263100</td>\n      <td>cifar100</td>\n      <td>1</td>\n    </tr>\n    <tr>\n      <th>97</th>\n      <td>barlow_twins-affine</td>\n      <td>0.262900</td>\n      <td>cifar100</td>\n      <td>1</td>\n    </tr>\n    <tr>\n      <th>98</th>\n      <td>barlow_twins-affine</td>\n      <td>0.260700</td>\n      <td>cifar100</td>\n      <td>1</td>\n    </tr>\n    <tr>\n      <th>99</th>\n      <td>barlow_twins-affine</td>\n      <td>0.262100</td>\n      <td>cifar100</td>\n      <td>1</td>\n    </tr>\n    <tr>\n      <th>100</th>\n      <td>barlow_twins-affine</td>\n      <td>0.593767</td>\n      <td>caltech101</td>\n      <td>1</td>\n    </tr>\n    <tr>\n      <th>101</th>\n      <td>barlow_twins-affine</td>\n      <td>0.595407</td>\n      <td>caltech101</td>\n      <td>1</td>\n    </tr>\n    <tr>\n      <th>102</th>\n      <td>barlow_twins-affine</td>\n      <td>0.571350</td>\n      <td>caltech101</td>\n      <td>1</td>\n    </tr>\n    <tr>\n      <th>103</th>\n      <td>barlow_twins-affine</td>\n      <td>0.583926</td>\n      <td>caltech101</td>\n      <td>1</td>\n    </tr>\n    <tr>\n      <th>104</th>\n      <td>barlow_twins-affine</td>\n      <td>0.589393</td>\n      <td>caltech101</td>\n      <td>1</td>\n    </tr>\n  </tbody>\n</table>\n</div>"
     },
     "execution_count": 8,
     "metadata": {},
     "output_type": "execute_result"
    }
   ],
   "source": [
    "baseline_df = pd.read_csv('main-results-raw.csv')\n",
    "baseline_df['view-count'] = '1'\n",
    "baseline_df = baseline_df[baseline_df['model'] != 'barlow_twins-affine']\n",
    "baseline_df['model'] = baseline_df['model'].map(lambda x: x if x != 'barlow_twins-affine-investigate-losses' else 'barlow_twins-affine')\n",
    "baseline_df = baseline_df[~baseline_df['model'].isin(['simclr', 'byol', 'barlow_twins'])]\n",
    "baseline_df"
   ],
   "metadata": {
    "collapsed": false,
    "ExecuteTime": {
     "end_time": "2024-02-13T20:35:51.389359700Z",
     "start_time": "2024-02-13T20:35:51.355721100Z"
    }
   },
   "id": "4d03a4bccacae5c9",
   "execution_count": 8
  },
  {
   "cell_type": "code",
   "outputs": [
    {
     "data": {
      "text/plain": "                  model       acc     dataset view-count\n0         simclr-affine  0.542200     cifar10          2\n1         simclr-affine  0.545700     cifar10          2\n2         simclr-affine  0.545500     cifar10          2\n3         simclr-affine  0.544000     cifar10          2\n4         simclr-affine  0.539100     cifar10          2\n5         simclr-affine  0.278400    cifar100          2\n6         simclr-affine  0.273700    cifar100          2\n7         simclr-affine  0.277100    cifar100          2\n8         simclr-affine  0.277500    cifar100          2\n9         simclr-affine  0.278500    cifar100          2\n10        simclr-affine  0.618371  caltech101          2\n11        simclr-affine  0.622198  caltech101          2\n12        simclr-affine  0.636413  caltech101          2\n13        simclr-affine  0.628759  caltech101          2\n14        simclr-affine  0.617277  caltech101          2\n15          byol-affine  0.520600     cifar10          2\n16          byol-affine  0.521600     cifar10          2\n17          byol-affine  0.520100     cifar10          2\n18          byol-affine  0.525500     cifar10          2\n19          byol-affine  0.522700     cifar10          2\n20          byol-affine  0.248400    cifar100          2\n21          byol-affine  0.254400    cifar100          2\n22          byol-affine  0.252800    cifar100          2\n23          byol-affine  0.251400    cifar100          2\n24          byol-affine  0.252600    cifar100          2\n25          byol-affine  0.589393  caltech101          2\n26          byol-affine  0.586113  caltech101          2\n27          byol-affine  0.579005  caltech101          2\n28          byol-affine  0.588300  caltech101          2\n29          byol-affine  0.571897  caltech101          2\n45  barlow_twins-affine  0.510100     cifar10          2\n46  barlow_twins-affine  0.508700     cifar10          2\n47  barlow_twins-affine  0.507000     cifar10          2\n48  barlow_twins-affine  0.509200     cifar10          2\n49  barlow_twins-affine  0.508000     cifar10          2\n50  barlow_twins-affine  0.245000    cifar100          2\n51  barlow_twins-affine  0.243800    cifar100          2\n52  barlow_twins-affine  0.243000    cifar100          2\n53  barlow_twins-affine  0.243500    cifar100          2\n54  barlow_twins-affine  0.242700    cifar100          2\n55  barlow_twins-affine  0.569710  caltech101          2\n56  barlow_twins-affine  0.574084  caltech101          2\n57  barlow_twins-affine  0.564790  caltech101          2\n58  barlow_twins-affine  0.574631  caltech101          2\n59  barlow_twins-affine  0.566430  caltech101          2",
      "text/html": "<div>\n<style scoped>\n    .dataframe tbody tr th:only-of-type {\n        vertical-align: middle;\n    }\n\n    .dataframe tbody tr th {\n        vertical-align: top;\n    }\n\n    .dataframe thead th {\n        text-align: right;\n    }\n</style>\n<table border=\"1\" class=\"dataframe\">\n  <thead>\n    <tr style=\"text-align: right;\">\n      <th></th>\n      <th>model</th>\n      <th>acc</th>\n      <th>dataset</th>\n      <th>view-count</th>\n    </tr>\n  </thead>\n  <tbody>\n    <tr>\n      <th>0</th>\n      <td>simclr-affine</td>\n      <td>0.542200</td>\n      <td>cifar10</td>\n      <td>2</td>\n    </tr>\n    <tr>\n      <th>1</th>\n      <td>simclr-affine</td>\n      <td>0.545700</td>\n      <td>cifar10</td>\n      <td>2</td>\n    </tr>\n    <tr>\n      <th>2</th>\n      <td>simclr-affine</td>\n      <td>0.545500</td>\n      <td>cifar10</td>\n      <td>2</td>\n    </tr>\n    <tr>\n      <th>3</th>\n      <td>simclr-affine</td>\n      <td>0.544000</td>\n      <td>cifar10</td>\n      <td>2</td>\n    </tr>\n    <tr>\n      <th>4</th>\n      <td>simclr-affine</td>\n      <td>0.539100</td>\n      <td>cifar10</td>\n      <td>2</td>\n    </tr>\n    <tr>\n      <th>5</th>\n      <td>simclr-affine</td>\n      <td>0.278400</td>\n      <td>cifar100</td>\n      <td>2</td>\n    </tr>\n    <tr>\n      <th>6</th>\n      <td>simclr-affine</td>\n      <td>0.273700</td>\n      <td>cifar100</td>\n      <td>2</td>\n    </tr>\n    <tr>\n      <th>7</th>\n      <td>simclr-affine</td>\n      <td>0.277100</td>\n      <td>cifar100</td>\n      <td>2</td>\n    </tr>\n    <tr>\n      <th>8</th>\n      <td>simclr-affine</td>\n      <td>0.277500</td>\n      <td>cifar100</td>\n      <td>2</td>\n    </tr>\n    <tr>\n      <th>9</th>\n      <td>simclr-affine</td>\n      <td>0.278500</td>\n      <td>cifar100</td>\n      <td>2</td>\n    </tr>\n    <tr>\n      <th>10</th>\n      <td>simclr-affine</td>\n      <td>0.618371</td>\n      <td>caltech101</td>\n      <td>2</td>\n    </tr>\n    <tr>\n      <th>11</th>\n      <td>simclr-affine</td>\n      <td>0.622198</td>\n      <td>caltech101</td>\n      <td>2</td>\n    </tr>\n    <tr>\n      <th>12</th>\n      <td>simclr-affine</td>\n      <td>0.636413</td>\n      <td>caltech101</td>\n      <td>2</td>\n    </tr>\n    <tr>\n      <th>13</th>\n      <td>simclr-affine</td>\n      <td>0.628759</td>\n      <td>caltech101</td>\n      <td>2</td>\n    </tr>\n    <tr>\n      <th>14</th>\n      <td>simclr-affine</td>\n      <td>0.617277</td>\n      <td>caltech101</td>\n      <td>2</td>\n    </tr>\n    <tr>\n      <th>15</th>\n      <td>byol-affine</td>\n      <td>0.520600</td>\n      <td>cifar10</td>\n      <td>2</td>\n    </tr>\n    <tr>\n      <th>16</th>\n      <td>byol-affine</td>\n      <td>0.521600</td>\n      <td>cifar10</td>\n      <td>2</td>\n    </tr>\n    <tr>\n      <th>17</th>\n      <td>byol-affine</td>\n      <td>0.520100</td>\n      <td>cifar10</td>\n      <td>2</td>\n    </tr>\n    <tr>\n      <th>18</th>\n      <td>byol-affine</td>\n      <td>0.525500</td>\n      <td>cifar10</td>\n      <td>2</td>\n    </tr>\n    <tr>\n      <th>19</th>\n      <td>byol-affine</td>\n      <td>0.522700</td>\n      <td>cifar10</td>\n      <td>2</td>\n    </tr>\n    <tr>\n      <th>20</th>\n      <td>byol-affine</td>\n      <td>0.248400</td>\n      <td>cifar100</td>\n      <td>2</td>\n    </tr>\n    <tr>\n      <th>21</th>\n      <td>byol-affine</td>\n      <td>0.254400</td>\n      <td>cifar100</td>\n      <td>2</td>\n    </tr>\n    <tr>\n      <th>22</th>\n      <td>byol-affine</td>\n      <td>0.252800</td>\n      <td>cifar100</td>\n      <td>2</td>\n    </tr>\n    <tr>\n      <th>23</th>\n      <td>byol-affine</td>\n      <td>0.251400</td>\n      <td>cifar100</td>\n      <td>2</td>\n    </tr>\n    <tr>\n      <th>24</th>\n      <td>byol-affine</td>\n      <td>0.252600</td>\n      <td>cifar100</td>\n      <td>2</td>\n    </tr>\n    <tr>\n      <th>25</th>\n      <td>byol-affine</td>\n      <td>0.589393</td>\n      <td>caltech101</td>\n      <td>2</td>\n    </tr>\n    <tr>\n      <th>26</th>\n      <td>byol-affine</td>\n      <td>0.586113</td>\n      <td>caltech101</td>\n      <td>2</td>\n    </tr>\n    <tr>\n      <th>27</th>\n      <td>byol-affine</td>\n      <td>0.579005</td>\n      <td>caltech101</td>\n      <td>2</td>\n    </tr>\n    <tr>\n      <th>28</th>\n      <td>byol-affine</td>\n      <td>0.588300</td>\n      <td>caltech101</td>\n      <td>2</td>\n    </tr>\n    <tr>\n      <th>29</th>\n      <td>byol-affine</td>\n      <td>0.571897</td>\n      <td>caltech101</td>\n      <td>2</td>\n    </tr>\n    <tr>\n      <th>45</th>\n      <td>barlow_twins-affine</td>\n      <td>0.510100</td>\n      <td>cifar10</td>\n      <td>2</td>\n    </tr>\n    <tr>\n      <th>46</th>\n      <td>barlow_twins-affine</td>\n      <td>0.508700</td>\n      <td>cifar10</td>\n      <td>2</td>\n    </tr>\n    <tr>\n      <th>47</th>\n      <td>barlow_twins-affine</td>\n      <td>0.507000</td>\n      <td>cifar10</td>\n      <td>2</td>\n    </tr>\n    <tr>\n      <th>48</th>\n      <td>barlow_twins-affine</td>\n      <td>0.509200</td>\n      <td>cifar10</td>\n      <td>2</td>\n    </tr>\n    <tr>\n      <th>49</th>\n      <td>barlow_twins-affine</td>\n      <td>0.508000</td>\n      <td>cifar10</td>\n      <td>2</td>\n    </tr>\n    <tr>\n      <th>50</th>\n      <td>barlow_twins-affine</td>\n      <td>0.245000</td>\n      <td>cifar100</td>\n      <td>2</td>\n    </tr>\n    <tr>\n      <th>51</th>\n      <td>barlow_twins-affine</td>\n      <td>0.243800</td>\n      <td>cifar100</td>\n      <td>2</td>\n    </tr>\n    <tr>\n      <th>52</th>\n      <td>barlow_twins-affine</td>\n      <td>0.243000</td>\n      <td>cifar100</td>\n      <td>2</td>\n    </tr>\n    <tr>\n      <th>53</th>\n      <td>barlow_twins-affine</td>\n      <td>0.243500</td>\n      <td>cifar100</td>\n      <td>2</td>\n    </tr>\n    <tr>\n      <th>54</th>\n      <td>barlow_twins-affine</td>\n      <td>0.242700</td>\n      <td>cifar100</td>\n      <td>2</td>\n    </tr>\n    <tr>\n      <th>55</th>\n      <td>barlow_twins-affine</td>\n      <td>0.569710</td>\n      <td>caltech101</td>\n      <td>2</td>\n    </tr>\n    <tr>\n      <th>56</th>\n      <td>barlow_twins-affine</td>\n      <td>0.574084</td>\n      <td>caltech101</td>\n      <td>2</td>\n    </tr>\n    <tr>\n      <th>57</th>\n      <td>barlow_twins-affine</td>\n      <td>0.564790</td>\n      <td>caltech101</td>\n      <td>2</td>\n    </tr>\n    <tr>\n      <th>58</th>\n      <td>barlow_twins-affine</td>\n      <td>0.574631</td>\n      <td>caltech101</td>\n      <td>2</td>\n    </tr>\n    <tr>\n      <th>59</th>\n      <td>barlow_twins-affine</td>\n      <td>0.566430</td>\n      <td>caltech101</td>\n      <td>2</td>\n    </tr>\n  </tbody>\n</table>\n</div>"
     },
     "execution_count": 9,
     "metadata": {},
     "output_type": "execute_result"
    }
   ],
   "source": [
    "double_df = pd.read_csv('double-results-raw.csv')\n",
    "double_df['view-count'] = '2'\n",
    "double_df = double_df[double_df['model'] != 'barlow_twins-affine']\n",
    "double_df['model'] = double_df['model'].map(lambda x: x if x != 'barlow_twins-affine-updated-betas' else 'barlow_twins-affine')\n",
    "double_df"
   ],
   "metadata": {
    "collapsed": false,
    "ExecuteTime": {
     "end_time": "2024-02-13T20:35:52.468356500Z",
     "start_time": "2024-02-13T20:35:52.421236100Z"
    }
   },
   "id": "935dfcd9eb68eda9",
   "execution_count": 9
  },
  {
   "cell_type": "code",
   "outputs": [
    {
     "data": {
      "text/plain": "                  model       acc     dataset view-count\n15        simclr-affine  0.551100     cifar10          1\n16        simclr-affine  0.551000     cifar10          1\n17        simclr-affine  0.549000     cifar10          1\n18        simclr-affine  0.550400     cifar10          1\n19        simclr-affine  0.553400     cifar10          1\n..                  ...       ...         ...        ...\n55  barlow_twins-affine  0.569710  caltech101          2\n56  barlow_twins-affine  0.574084  caltech101          2\n57  barlow_twins-affine  0.564790  caltech101          2\n58  barlow_twins-affine  0.574631  caltech101          2\n59  barlow_twins-affine  0.566430  caltech101          2\n\n[90 rows x 4 columns]",
      "text/html": "<div>\n<style scoped>\n    .dataframe tbody tr th:only-of-type {\n        vertical-align: middle;\n    }\n\n    .dataframe tbody tr th {\n        vertical-align: top;\n    }\n\n    .dataframe thead th {\n        text-align: right;\n    }\n</style>\n<table border=\"1\" class=\"dataframe\">\n  <thead>\n    <tr style=\"text-align: right;\">\n      <th></th>\n      <th>model</th>\n      <th>acc</th>\n      <th>dataset</th>\n      <th>view-count</th>\n    </tr>\n  </thead>\n  <tbody>\n    <tr>\n      <th>15</th>\n      <td>simclr-affine</td>\n      <td>0.551100</td>\n      <td>cifar10</td>\n      <td>1</td>\n    </tr>\n    <tr>\n      <th>16</th>\n      <td>simclr-affine</td>\n      <td>0.551000</td>\n      <td>cifar10</td>\n      <td>1</td>\n    </tr>\n    <tr>\n      <th>17</th>\n      <td>simclr-affine</td>\n      <td>0.549000</td>\n      <td>cifar10</td>\n      <td>1</td>\n    </tr>\n    <tr>\n      <th>18</th>\n      <td>simclr-affine</td>\n      <td>0.550400</td>\n      <td>cifar10</td>\n      <td>1</td>\n    </tr>\n    <tr>\n      <th>19</th>\n      <td>simclr-affine</td>\n      <td>0.553400</td>\n      <td>cifar10</td>\n      <td>1</td>\n    </tr>\n    <tr>\n      <th>...</th>\n      <td>...</td>\n      <td>...</td>\n      <td>...</td>\n      <td>...</td>\n    </tr>\n    <tr>\n      <th>55</th>\n      <td>barlow_twins-affine</td>\n      <td>0.569710</td>\n      <td>caltech101</td>\n      <td>2</td>\n    </tr>\n    <tr>\n      <th>56</th>\n      <td>barlow_twins-affine</td>\n      <td>0.574084</td>\n      <td>caltech101</td>\n      <td>2</td>\n    </tr>\n    <tr>\n      <th>57</th>\n      <td>barlow_twins-affine</td>\n      <td>0.564790</td>\n      <td>caltech101</td>\n      <td>2</td>\n    </tr>\n    <tr>\n      <th>58</th>\n      <td>barlow_twins-affine</td>\n      <td>0.574631</td>\n      <td>caltech101</td>\n      <td>2</td>\n    </tr>\n    <tr>\n      <th>59</th>\n      <td>barlow_twins-affine</td>\n      <td>0.566430</td>\n      <td>caltech101</td>\n      <td>2</td>\n    </tr>\n  </tbody>\n</table>\n<p>90 rows × 4 columns</p>\n</div>"
     },
     "execution_count": 10,
     "metadata": {},
     "output_type": "execute_result"
    }
   ],
   "source": [
    "df = pd.concat([baseline_df, double_df])\n",
    "df"
   ],
   "metadata": {
    "collapsed": false,
    "ExecuteTime": {
     "end_time": "2024-02-13T20:35:52.990360Z",
     "start_time": "2024-02-13T20:35:52.978845700Z"
    }
   },
   "id": "b421436c9c8ff5c1",
   "execution_count": 10
  },
  {
   "cell_type": "code",
   "outputs": [
    {
     "name": "stdout",
     "output_type": "stream",
     "text": [
      "simclr-affine cifar10 Ttest_indResult(statistic=-5.425969963511059, pvalue=0.0006263340300768482)\n",
      "simclr-affine cifar100 Ttest_indResult(statistic=-9.755279661329226, pvalue=1.0209787640781706e-05)\n",
      "NOT SIGNIFICANT simclr-affine caltech101 Ttest_indResult(statistic=0.31237900883591124, pvalue=0.7627396545032896)\n",
      "NOT SIGNIFICANT byol-affine cifar10 Ttest_indResult(statistic=-0.6135079316379977, pvalue=0.5565778310995559)\n",
      "byol-affine cifar100 Ttest_indResult(statistic=-3.9653996019420443, pvalue=0.004145552779826696)\n",
      "NOT SIGNIFICANT byol-affine caltech101 Ttest_indResult(statistic=-0.33267391956524983, pvalue=0.7479303392889869)\n",
      "barlow_twins-affine cifar10 Ttest_indResult(statistic=-14.925571505041574, pvalue=4.0049132641030853e-07)\n",
      "barlow_twins-affine cifar100 Ttest_indResult(statistic=-31.973436567234423, pvalue=9.97046645513507e-10)\n",
      "barlow_twins-affine caltech101 Ttest_indResult(statistic=-3.5330023016066714, pvalue=0.007698150704032727)\n"
     ]
    }
   ],
   "source": [
    "for model in df['model'].unique():\n",
    "    for dataset in df['dataset'].unique():\n",
    "        subset = df.query(f'model == \"{model}\" & dataset == \"{dataset}\"')\n",
    "        baseline = subset.query('`view-count` == \"1\"')['acc'].values\n",
    "        variant = subset.query('`view-count` == \"2\"')['acc'].values\n",
    "        ttest = ttest_ind(variant, baseline)\n",
    "        if ttest.pvalue < 0.05:\n",
    "            print(model, dataset, ttest)\n",
    "        else:\n",
    "            print('NOT SIGNIFICANT', model, dataset, ttest)"
   ],
   "metadata": {
    "collapsed": false,
    "ExecuteTime": {
     "end_time": "2024-02-13T20:37:37.440416800Z",
     "start_time": "2024-02-13T20:37:37.362804400Z"
    }
   },
   "id": "eb9c6d8fc2d3101",
   "execution_count": 15
  },
  {
   "cell_type": "code",
   "outputs": [],
   "source": [],
   "metadata": {
    "collapsed": false
   },
   "id": "4bfdb7b28b39c4a3"
  }
 ],
 "metadata": {
  "kernelspec": {
   "display_name": "Python 3",
   "language": "python",
   "name": "python3"
  },
  "language_info": {
   "codemirror_mode": {
    "name": "ipython",
    "version": 2
   },
   "file_extension": ".py",
   "mimetype": "text/x-python",
   "name": "python",
   "nbconvert_exporter": "python",
   "pygments_lexer": "ipython2",
   "version": "2.7.6"
  }
 },
 "nbformat": 4,
 "nbformat_minor": 5
}
