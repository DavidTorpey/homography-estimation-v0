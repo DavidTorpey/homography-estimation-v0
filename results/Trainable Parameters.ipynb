{
 "cells": [
  {
   "cell_type": "code",
   "execution_count": 3,
   "id": "initial_id",
   "metadata": {
    "collapsed": true,
    "ExecuteTime": {
     "end_time": "2023-12-05T18:37:24.328196800Z",
     "start_time": "2023-12-05T18:37:23.762241800Z"
    }
   },
   "outputs": [],
   "source": [
    "import dacite\n",
    "import yaml\n",
    "\n",
    "from he.configuration import Config\n",
    "from he.model.model import get_model\n",
    "from he.model.projection_head import MLPHead"
   ]
  },
  {
   "cell_type": "code",
   "execution_count": 4,
   "outputs": [],
   "source": [
    "def count_params(model):\n",
    "    return sum(p.numel() for p in model.parameters() if p.requires_grad)"
   ],
   "metadata": {
    "collapsed": false,
    "ExecuteTime": {
     "end_time": "2023-12-05T18:37:24.990294800Z",
     "start_time": "2023-12-05T18:37:24.983778600Z"
    }
   },
   "id": "4c5cfb7994a76ef"
  },
  {
   "cell_type": "code",
   "execution_count": 23,
   "outputs": [],
   "source": [
    "config_dict = yaml.load(open('../config/local.yaml', \"r\"), Loader=yaml.FullLoader)\n",
    "config: Config = dacite.from_dict(Config, config_dict)"
   ],
   "metadata": {
    "collapsed": false,
    "ExecuteTime": {
     "end_time": "2023-12-05T18:39:44.989177400Z",
     "start_time": "2023-12-05T18:39:44.959724400Z"
    }
   },
   "id": "610d95cfeea4bcde"
  },
  {
   "cell_type": "code",
   "execution_count": 24,
   "outputs": [
    {
     "name": "stdout",
     "output_type": "stream",
     "text": [
      "barlow_twins\n"
     ]
    }
   ],
   "source": [
    "print(config.network.algo)\n",
    "simclr = get_model(config)"
   ],
   "metadata": {
    "collapsed": false,
    "ExecuteTime": {
     "end_time": "2023-12-05T18:39:45.350636500Z",
     "start_time": "2023-12-05T18:39:45.083199600Z"
    }
   },
   "id": "e80ff2513e2f68ee"
  },
  {
   "cell_type": "code",
   "execution_count": 25,
   "outputs": [],
   "source": [
    "encoder_dim = 512 if config.network.name == 'resnet18' else 2048\n",
    "if config.network.aggregation_strategy == 'diff':\n",
    "    in_channel = encoder_dim\n",
    "elif config.network.aggregation_strategy == 'concat':\n",
    "    in_channel = encoder_dim * 2\n",
    "else:\n",
    "    raise Exception(f'Invalid aggregation strategy: {config.network.aggregation_strategy}')\n",
    "param_head = MLPHead(\n",
    "    in_channels=in_channel,\n",
    "    hidden_size=config.network.pred_head.hidden_size,\n",
    "    proj_size=config.network.pred_head.proj_size\n",
    ")"
   ],
   "metadata": {
    "collapsed": false,
    "ExecuteTime": {
     "end_time": "2023-12-05T18:39:45.744968400Z",
     "start_time": "2023-12-05T18:39:45.729232600Z"
    }
   },
   "id": "b973367c4b169380"
  },
  {
   "cell_type": "code",
   "execution_count": 26,
   "outputs": [],
   "source": [
    "c1 = count_params(simclr)"
   ],
   "metadata": {
    "collapsed": false,
    "ExecuteTime": {
     "end_time": "2023-12-05T18:39:46.137792500Z",
     "start_time": "2023-12-05T18:39:46.133128800Z"
    }
   },
   "id": "be9f953f3ef41d4c"
  },
  {
   "cell_type": "code",
   "execution_count": 27,
   "outputs": [],
   "source": [
    "c2 = count_params(param_head)"
   ],
   "metadata": {
    "collapsed": false,
    "ExecuteTime": {
     "end_time": "2023-12-05T18:39:46.789580600Z",
     "start_time": "2023-12-05T18:39:46.785539100Z"
    }
   },
   "id": "ab2f8e020c2d7f4b"
  },
  {
   "cell_type": "code",
   "execution_count": 28,
   "outputs": [
    {
     "data": {
      "text/plain": "0.04334864153204652"
     },
     "execution_count": 28,
     "metadata": {},
     "output_type": "execute_result"
    }
   ],
   "source": [
    "c2 / (c1 + c2)"
   ],
   "metadata": {
    "collapsed": false,
    "ExecuteTime": {
     "end_time": "2023-12-05T18:39:47.082106600Z",
     "start_time": "2023-12-05T18:39:47.024872600Z"
    }
   },
   "id": "91c5216420fe8b49"
  },
  {
   "cell_type": "code",
   "execution_count": null,
   "outputs": [],
   "source": [
    "simclr 0.04334864153204652\n",
    "byol 0.04312624457335098\n",
    "barlow twins 0.04334864153204652"
   ],
   "metadata": {
    "collapsed": false
   },
   "id": "47cdac288d5a1ce9"
  }
 ],
 "metadata": {
  "kernelspec": {
   "display_name": "Python 3",
   "language": "python",
   "name": "python3"
  },
  "language_info": {
   "codemirror_mode": {
    "name": "ipython",
    "version": 2
   },
   "file_extension": ".py",
   "mimetype": "text/x-python",
   "name": "python",
   "nbconvert_exporter": "python",
   "pygments_lexer": "ipython2",
   "version": "2.7.6"
  }
 },
 "nbformat": 4,
 "nbformat_minor": 5
}
