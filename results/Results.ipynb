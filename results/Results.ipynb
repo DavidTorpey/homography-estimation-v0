{
 "cells": [
  {
   "cell_type": "code",
   "execution_count": 5,
   "id": "initial_id",
   "metadata": {
    "collapsed": true,
    "ExecuteTime": {
     "end_time": "2024-03-11T22:25:35.601238700Z",
     "start_time": "2024-03-11T22:25:34.857427400Z"
    }
   },
   "outputs": [],
   "source": [
    "import pandas as pd\n",
    "from scipy.stats import ttest_ind"
   ]
  },
  {
   "cell_type": "code",
   "outputs": [
    {
     "data": {
      "text/plain": "                                    model  cifar10  cifar100  caltech101\n0                                  simclr    52.88     26.76       58.38\n1                           simclr-affine    55.10     28.60       62.34\n2                                    byol    46.11     21.38       51.21\n3                             byol-affine    52.29     25.86       58.45\n4                            barlow_twins    50.31     24.48       55.08\n5                     barlow_twins-affine    50.53     25.35       55.23\n6  barlow_twins-affine-investigate-losses    52.81     26.23       58.68",
      "text/html": "<div>\n<style scoped>\n    .dataframe tbody tr th:only-of-type {\n        vertical-align: middle;\n    }\n\n    .dataframe tbody tr th {\n        vertical-align: top;\n    }\n\n    .dataframe thead th {\n        text-align: right;\n    }\n</style>\n<table border=\"1\" class=\"dataframe\">\n  <thead>\n    <tr style=\"text-align: right;\">\n      <th></th>\n      <th>model</th>\n      <th>cifar10</th>\n      <th>cifar100</th>\n      <th>caltech101</th>\n    </tr>\n  </thead>\n  <tbody>\n    <tr>\n      <th>0</th>\n      <td>simclr</td>\n      <td>52.88</td>\n      <td>26.76</td>\n      <td>58.38</td>\n    </tr>\n    <tr>\n      <th>1</th>\n      <td>simclr-affine</td>\n      <td>55.10</td>\n      <td>28.60</td>\n      <td>62.34</td>\n    </tr>\n    <tr>\n      <th>2</th>\n      <td>byol</td>\n      <td>46.11</td>\n      <td>21.38</td>\n      <td>51.21</td>\n    </tr>\n    <tr>\n      <th>3</th>\n      <td>byol-affine</td>\n      <td>52.29</td>\n      <td>25.86</td>\n      <td>58.45</td>\n    </tr>\n    <tr>\n      <th>4</th>\n      <td>barlow_twins</td>\n      <td>50.31</td>\n      <td>24.48</td>\n      <td>55.08</td>\n    </tr>\n    <tr>\n      <th>5</th>\n      <td>barlow_twins-affine</td>\n      <td>50.53</td>\n      <td>25.35</td>\n      <td>55.23</td>\n    </tr>\n    <tr>\n      <th>6</th>\n      <td>barlow_twins-affine-investigate-losses</td>\n      <td>52.81</td>\n      <td>26.23</td>\n      <td>58.68</td>\n    </tr>\n  </tbody>\n</table>\n</div>"
     },
     "execution_count": 2,
     "metadata": {},
     "output_type": "execute_result"
    }
   ],
   "source": [
    "df = pd.read_csv('main-results.csv')\n",
    "df"
   ],
   "metadata": {
    "collapsed": false,
    "ExecuteTime": {
     "end_time": "2024-03-11T22:21:59.838182800Z",
     "start_time": "2024-03-11T22:21:59.783717900Z"
    }
   },
   "id": "3a65ac20a7325b48",
   "execution_count": 2
  },
  {
   "cell_type": "code",
   "outputs": [
    {
     "name": "stderr",
     "output_type": "stream",
     "text": [
      "/tmp/ipykernel_9630/1811361098.py:2: SettingWithCopyWarning: \n",
      "A value is trying to be set on a copy of a slice from a DataFrame.\n",
      "Try using .loc[row_indexer,col_indexer] = value instead\n",
      "\n",
      "See the caveats in the documentation: https://pandas.pydata.org/pandas-docs/stable/user_guide/indexing.html#returning-a-view-versus-a-copy\n",
      "  df['model'] = df['model'].map(lambda x: 'barlow_twins-affine' if x == 'barlow_twins-affine-investigate-losses' else x)\n"
     ]
    },
    {
     "data": {
      "text/plain": "                 model  cifar10  cifar100  caltech101\n0               simclr    52.88     26.76       58.38\n1        simclr-affine    55.10     28.60       62.34\n2                 byol    46.11     21.38       51.21\n3          byol-affine    52.29     25.86       58.45\n4         barlow_twins    50.31     24.48       55.08\n6  barlow_twins-affine    52.81     26.23       58.68",
      "text/html": "<div>\n<style scoped>\n    .dataframe tbody tr th:only-of-type {\n        vertical-align: middle;\n    }\n\n    .dataframe tbody tr th {\n        vertical-align: top;\n    }\n\n    .dataframe thead th {\n        text-align: right;\n    }\n</style>\n<table border=\"1\" class=\"dataframe\">\n  <thead>\n    <tr style=\"text-align: right;\">\n      <th></th>\n      <th>model</th>\n      <th>cifar10</th>\n      <th>cifar100</th>\n      <th>caltech101</th>\n    </tr>\n  </thead>\n  <tbody>\n    <tr>\n      <th>0</th>\n      <td>simclr</td>\n      <td>52.88</td>\n      <td>26.76</td>\n      <td>58.38</td>\n    </tr>\n    <tr>\n      <th>1</th>\n      <td>simclr-affine</td>\n      <td>55.10</td>\n      <td>28.60</td>\n      <td>62.34</td>\n    </tr>\n    <tr>\n      <th>2</th>\n      <td>byol</td>\n      <td>46.11</td>\n      <td>21.38</td>\n      <td>51.21</td>\n    </tr>\n    <tr>\n      <th>3</th>\n      <td>byol-affine</td>\n      <td>52.29</td>\n      <td>25.86</td>\n      <td>58.45</td>\n    </tr>\n    <tr>\n      <th>4</th>\n      <td>barlow_twins</td>\n      <td>50.31</td>\n      <td>24.48</td>\n      <td>55.08</td>\n    </tr>\n    <tr>\n      <th>6</th>\n      <td>barlow_twins-affine</td>\n      <td>52.81</td>\n      <td>26.23</td>\n      <td>58.68</td>\n    </tr>\n  </tbody>\n</table>\n</div>"
     },
     "execution_count": 3,
     "metadata": {},
     "output_type": "execute_result"
    }
   ],
   "source": [
    "df = df[df['model'] != 'barlow_twins-affine']\n",
    "df['model'] = df['model'].map(lambda x: 'barlow_twins-affine' if x == 'barlow_twins-affine-investigate-losses' else x)\n",
    "df"
   ],
   "metadata": {
    "collapsed": false,
    "ExecuteTime": {
     "end_time": "2024-03-11T22:21:59.917958700Z",
     "start_time": "2024-03-11T22:21:59.810846400Z"
    }
   },
   "id": "574e10ba2bbea17d",
   "execution_count": 3
  },
  {
   "cell_type": "code",
   "outputs": [
    {
     "name": "stdout",
     "output_type": "stream",
     "text": [
      "simclr 0.05952421237223577\n",
      "byol 0.16164919687801835\n",
      "barlow_twins 0.062179438461928214\n"
     ]
    }
   ],
   "source": [
    "models = ['simclr', 'byol', 'barlow_twins']\n",
    "for m in models:\n",
    "    baseline = df[df['model'] == m].values.ravel()[1:].astype(float)\n",
    "    affine = df[df['model'] == m + '-affine'].values.ravel()[1:].astype(float)\n",
    "    perc_inc = ((affine - baseline) / baseline).mean()\n",
    "    print(m, perc_inc)"
   ],
   "metadata": {
    "collapsed": false,
    "ExecuteTime": {
     "end_time": "2024-02-11T16:24:52.309673800Z",
     "start_time": "2024-02-11T16:24:52.263090Z"
    }
   },
   "id": "563d2308c87636e5",
   "execution_count": 8
  },
  {
   "cell_type": "code",
   "outputs": [
    {
     "data": {
      "text/plain": "                   model       acc     dataset\n0                 simclr  0.528700     cifar10\n1                 simclr  0.529900     cifar10\n2                 simclr  0.530000     cifar10\n3                 simclr  0.526600     cifar10\n4                 simclr  0.528600     cifar10\n..                   ...       ...         ...\n100  barlow_twins-affine  0.593767  caltech101\n101  barlow_twins-affine  0.595407  caltech101\n102  barlow_twins-affine  0.571350  caltech101\n103  barlow_twins-affine  0.583926  caltech101\n104  barlow_twins-affine  0.589393  caltech101\n\n[90 rows x 3 columns]",
      "text/html": "<div>\n<style scoped>\n    .dataframe tbody tr th:only-of-type {\n        vertical-align: middle;\n    }\n\n    .dataframe tbody tr th {\n        vertical-align: top;\n    }\n\n    .dataframe thead th {\n        text-align: right;\n    }\n</style>\n<table border=\"1\" class=\"dataframe\">\n  <thead>\n    <tr style=\"text-align: right;\">\n      <th></th>\n      <th>model</th>\n      <th>acc</th>\n      <th>dataset</th>\n    </tr>\n  </thead>\n  <tbody>\n    <tr>\n      <th>0</th>\n      <td>simclr</td>\n      <td>0.528700</td>\n      <td>cifar10</td>\n    </tr>\n    <tr>\n      <th>1</th>\n      <td>simclr</td>\n      <td>0.529900</td>\n      <td>cifar10</td>\n    </tr>\n    <tr>\n      <th>2</th>\n      <td>simclr</td>\n      <td>0.530000</td>\n      <td>cifar10</td>\n    </tr>\n    <tr>\n      <th>3</th>\n      <td>simclr</td>\n      <td>0.526600</td>\n      <td>cifar10</td>\n    </tr>\n    <tr>\n      <th>4</th>\n      <td>simclr</td>\n      <td>0.528600</td>\n      <td>cifar10</td>\n    </tr>\n    <tr>\n      <th>...</th>\n      <td>...</td>\n      <td>...</td>\n      <td>...</td>\n    </tr>\n    <tr>\n      <th>100</th>\n      <td>barlow_twins-affine</td>\n      <td>0.593767</td>\n      <td>caltech101</td>\n    </tr>\n    <tr>\n      <th>101</th>\n      <td>barlow_twins-affine</td>\n      <td>0.595407</td>\n      <td>caltech101</td>\n    </tr>\n    <tr>\n      <th>102</th>\n      <td>barlow_twins-affine</td>\n      <td>0.571350</td>\n      <td>caltech101</td>\n    </tr>\n    <tr>\n      <th>103</th>\n      <td>barlow_twins-affine</td>\n      <td>0.583926</td>\n      <td>caltech101</td>\n    </tr>\n    <tr>\n      <th>104</th>\n      <td>barlow_twins-affine</td>\n      <td>0.589393</td>\n      <td>caltech101</td>\n    </tr>\n  </tbody>\n</table>\n<p>90 rows × 3 columns</p>\n</div>"
     },
     "execution_count": 11,
     "metadata": {},
     "output_type": "execute_result"
    }
   ],
   "source": [
    "raw_df = pd.read_csv('main-results-raw.csv')\n",
    "raw_df = raw_df[raw_df['model'] != 'barlow_twins-affine']\n",
    "raw_df['model'] = raw_df['model'].map(lambda x: 'barlow_twins-affine' if x == 'barlow_twins-affine-investigate-losses' else x)\n",
    "raw_df"
   ],
   "metadata": {
    "collapsed": false,
    "ExecuteTime": {
     "end_time": "2024-03-11T22:28:53.900840Z",
     "start_time": "2024-03-11T22:28:53.865090700Z"
    }
   },
   "id": "b6c14f723b894421",
   "execution_count": 11
  },
  {
   "cell_type": "code",
   "outputs": [
    {
     "name": "stdout",
     "output_type": "stream",
     "text": [
      "5 5 simclr cifar10 0.5287599999999999 0.55098 Ttest_indResult(statistic=23.64632764029178, pvalue=1.0886671882003824e-08)\n",
      "5 5 simclr cifar100 0.26759999999999995 0.286 Ttest_indResult(statistic=29.539419757125355, pvalue=1.869529767370436e-09)\n",
      "5 5 simclr caltech101 0.5838162930563149 0.6234007654455986 Ttest_indResult(statistic=16.19723279916512, pvalue=2.1218593619686708e-07)\n",
      "5 5 byol cifar10 0.46107999999999993 0.52288 Ttest_indResult(statistic=55.390933617264984, pvalue=1.2520946077281833e-11)\n",
      "5 5 byol cifar100 0.21381999999999998 0.25861999999999996 Ttest_indResult(statistic=24.905036276677833, pvalue=7.225737672051126e-09)\n",
      "5 5 byol caltech101 0.5120831055221433 0.5844723892837618 Ttest_indResult(statistic=19.09836116226933, pvalue=5.8522430534607774e-08)\n",
      "5 5 barlow_twins cifar10 0.50308 0.52812 Ttest_indResult(statistic=19.44183760433507, pvalue=5.088253093428368e-08)\n",
      "5 5 barlow_twins cifar100 0.24481999999999998 0.26226000000000005 Ttest_indResult(statistic=29.648889480026764, pvalue=1.8154543384343089e-09)\n",
      "5 5 barlow_twins caltech101 0.550792782941498 0.5867687260798251 Ttest_indResult(statistic=7.074859830307412, pvalue=0.00010456020883601806)\n"
     ]
    }
   ],
   "source": [
    "for model in ['simclr', 'byol', 'barlow_twins']:\n",
    "    for dataset in raw_df['dataset'].unique():\n",
    "        subset = raw_df[(raw_df['dataset'] == dataset) & (raw_df['model'].map(lambda x: model in x))]\n",
    "        baseline = subset.query(f'`model` == \"{model}\"')['acc'].values\n",
    "        variant = subset.query(f'`model` == \"{model}-affine\"')['acc'].values\n",
    "        ttest = ttest_ind(variant, baseline)\n",
    "        if ttest.pvalue < 0.05:\n",
    "            print(len(baseline), len(variant), model, dataset, baseline.mean(), variant.mean(), ttest)\n",
    "        else:\n",
    "            print('NOT SIGNIFICANT', len(baseline), len(variant), model, dataset, baseline.mean(), variant.mean(), ttest)"
   ],
   "metadata": {
    "collapsed": false,
    "ExecuteTime": {
     "end_time": "2024-03-11T22:28:54.115667300Z",
     "start_time": "2024-03-11T22:28:54.082848900Z"
    }
   },
   "id": "c79a05404ad2a7ff",
   "execution_count": 12
  },
  {
   "cell_type": "code",
   "outputs": [
    {
     "data": {
      "text/plain": "array(['simclr', 'simclr-affine', 'byol', 'byol-affine', 'barlow_twins',\n       'barlow_twins-affine'], dtype=object)"
     },
     "execution_count": 10,
     "metadata": {},
     "output_type": "execute_result"
    }
   ],
   "source": [
    "df['model'].unique()"
   ],
   "metadata": {
    "collapsed": false,
    "ExecuteTime": {
     "end_time": "2024-03-11T22:28:34.580995500Z",
     "start_time": "2024-03-11T22:28:34.546846600Z"
    }
   },
   "id": "1973bd30f835c29b",
   "execution_count": 10
  },
  {
   "cell_type": "code",
   "outputs": [],
   "source": [],
   "metadata": {
    "collapsed": false
   },
   "id": "b47de9552773fed8"
  }
 ],
 "metadata": {
  "kernelspec": {
   "display_name": "Python 3",
   "language": "python",
   "name": "python3"
  },
  "language_info": {
   "codemirror_mode": {
    "name": "ipython",
    "version": 2
   },
   "file_extension": ".py",
   "mimetype": "text/x-python",
   "name": "python",
   "nbconvert_exporter": "python",
   "pygments_lexer": "ipython2",
   "version": "2.7.6"
  }
 },
 "nbformat": 4,
 "nbformat_minor": 5
}
