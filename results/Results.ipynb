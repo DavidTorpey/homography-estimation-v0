{
 "cells": [
  {
   "cell_type": "code",
   "execution_count": 1,
   "id": "initial_id",
   "metadata": {
    "collapsed": true,
    "ExecuteTime": {
     "end_time": "2024-02-11T16:21:12.198282500Z",
     "start_time": "2024-02-11T16:21:11.334700Z"
    }
   },
   "outputs": [],
   "source": [
    "import pandas as pd"
   ]
  },
  {
   "cell_type": "code",
   "outputs": [
    {
     "data": {
      "text/plain": "                                    model  cifar10  cifar100  caltech101\n0                                  simclr    52.88     26.76       58.38\n1                           simclr-affine    55.10     28.60       62.34\n2                                    byol    46.11     21.38       51.21\n3                             byol-affine    52.29     25.86       58.45\n4                            barlow_twins    50.31     24.48       55.08\n5                     barlow_twins-affine    50.53     25.35       55.23\n6  barlow_twins-affine-investigate-losses    52.81     26.23       58.68",
      "text/html": "<div>\n<style scoped>\n    .dataframe tbody tr th:only-of-type {\n        vertical-align: middle;\n    }\n\n    .dataframe tbody tr th {\n        vertical-align: top;\n    }\n\n    .dataframe thead th {\n        text-align: right;\n    }\n</style>\n<table border=\"1\" class=\"dataframe\">\n  <thead>\n    <tr style=\"text-align: right;\">\n      <th></th>\n      <th>model</th>\n      <th>cifar10</th>\n      <th>cifar100</th>\n      <th>caltech101</th>\n    </tr>\n  </thead>\n  <tbody>\n    <tr>\n      <th>0</th>\n      <td>simclr</td>\n      <td>52.88</td>\n      <td>26.76</td>\n      <td>58.38</td>\n    </tr>\n    <tr>\n      <th>1</th>\n      <td>simclr-affine</td>\n      <td>55.10</td>\n      <td>28.60</td>\n      <td>62.34</td>\n    </tr>\n    <tr>\n      <th>2</th>\n      <td>byol</td>\n      <td>46.11</td>\n      <td>21.38</td>\n      <td>51.21</td>\n    </tr>\n    <tr>\n      <th>3</th>\n      <td>byol-affine</td>\n      <td>52.29</td>\n      <td>25.86</td>\n      <td>58.45</td>\n    </tr>\n    <tr>\n      <th>4</th>\n      <td>barlow_twins</td>\n      <td>50.31</td>\n      <td>24.48</td>\n      <td>55.08</td>\n    </tr>\n    <tr>\n      <th>5</th>\n      <td>barlow_twins-affine</td>\n      <td>50.53</td>\n      <td>25.35</td>\n      <td>55.23</td>\n    </tr>\n    <tr>\n      <th>6</th>\n      <td>barlow_twins-affine-investigate-losses</td>\n      <td>52.81</td>\n      <td>26.23</td>\n      <td>58.68</td>\n    </tr>\n  </tbody>\n</table>\n</div>"
     },
     "execution_count": 5,
     "metadata": {},
     "output_type": "execute_result"
    }
   ],
   "source": [
    "df = pd.read_csv('main-results.csv')\n",
    "df"
   ],
   "metadata": {
    "collapsed": false,
    "ExecuteTime": {
     "end_time": "2024-02-11T16:24:15.469077500Z",
     "start_time": "2024-02-11T16:24:15.427320Z"
    }
   },
   "id": "3a65ac20a7325b48",
   "execution_count": 5
  },
  {
   "cell_type": "code",
   "outputs": [
    {
     "name": "stderr",
     "output_type": "stream",
     "text": [
      "/tmp/ipykernel_2634/1811361098.py:2: SettingWithCopyWarning: \n",
      "A value is trying to be set on a copy of a slice from a DataFrame.\n",
      "Try using .loc[row_indexer,col_indexer] = value instead\n",
      "\n",
      "See the caveats in the documentation: https://pandas.pydata.org/pandas-docs/stable/user_guide/indexing.html#returning-a-view-versus-a-copy\n",
      "  df['model'] = df['model'].map(lambda x: 'barlow_twins-affine' if x == 'barlow_twins-affine-investigate-losses' else x)\n"
     ]
    },
    {
     "data": {
      "text/plain": "                 model  cifar10  cifar100  caltech101\n0               simclr    52.88     26.76       58.38\n1        simclr-affine    55.10     28.60       62.34\n2                 byol    46.11     21.38       51.21\n3          byol-affine    52.29     25.86       58.45\n4         barlow_twins    50.31     24.48       55.08\n6  barlow_twins-affine    52.81     26.23       58.68",
      "text/html": "<div>\n<style scoped>\n    .dataframe tbody tr th:only-of-type {\n        vertical-align: middle;\n    }\n\n    .dataframe tbody tr th {\n        vertical-align: top;\n    }\n\n    .dataframe thead th {\n        text-align: right;\n    }\n</style>\n<table border=\"1\" class=\"dataframe\">\n  <thead>\n    <tr style=\"text-align: right;\">\n      <th></th>\n      <th>model</th>\n      <th>cifar10</th>\n      <th>cifar100</th>\n      <th>caltech101</th>\n    </tr>\n  </thead>\n  <tbody>\n    <tr>\n      <th>0</th>\n      <td>simclr</td>\n      <td>52.88</td>\n      <td>26.76</td>\n      <td>58.38</td>\n    </tr>\n    <tr>\n      <th>1</th>\n      <td>simclr-affine</td>\n      <td>55.10</td>\n      <td>28.60</td>\n      <td>62.34</td>\n    </tr>\n    <tr>\n      <th>2</th>\n      <td>byol</td>\n      <td>46.11</td>\n      <td>21.38</td>\n      <td>51.21</td>\n    </tr>\n    <tr>\n      <th>3</th>\n      <td>byol-affine</td>\n      <td>52.29</td>\n      <td>25.86</td>\n      <td>58.45</td>\n    </tr>\n    <tr>\n      <th>4</th>\n      <td>barlow_twins</td>\n      <td>50.31</td>\n      <td>24.48</td>\n      <td>55.08</td>\n    </tr>\n    <tr>\n      <th>6</th>\n      <td>barlow_twins-affine</td>\n      <td>52.81</td>\n      <td>26.23</td>\n      <td>58.68</td>\n    </tr>\n  </tbody>\n</table>\n</div>"
     },
     "execution_count": 6,
     "metadata": {},
     "output_type": "execute_result"
    }
   ],
   "source": [
    "df = df[df['model'] != 'barlow_twins-affine']\n",
    "df['model'] = df['model'].map(lambda x: 'barlow_twins-affine' if x == 'barlow_twins-affine-investigate-losses' else x)\n",
    "df"
   ],
   "metadata": {
    "collapsed": false,
    "ExecuteTime": {
     "end_time": "2024-02-11T16:24:15.631854400Z",
     "start_time": "2024-02-11T16:24:15.579519800Z"
    }
   },
   "id": "574e10ba2bbea17d",
   "execution_count": 6
  },
  {
   "cell_type": "code",
   "outputs": [
    {
     "name": "stdout",
     "output_type": "stream",
     "text": [
      "simclr 0.05952421237223577\n",
      "byol 0.16164919687801835\n",
      "barlow_twins 0.062179438461928214\n"
     ]
    }
   ],
   "source": [
    "models = ['simclr', 'byol', 'barlow_twins']\n",
    "for m in models:\n",
    "    baseline = df[df['model'] == m].values.ravel()[1:].astype(float)\n",
    "    affine = df[df['model'] == m + '-affine'].values.ravel()[1:].astype(float)\n",
    "    perc_inc = ((affine - baseline) / baseline).mean()\n",
    "    print(m, perc_inc)"
   ],
   "metadata": {
    "collapsed": false,
    "ExecuteTime": {
     "end_time": "2024-02-11T16:24:52.309673800Z",
     "start_time": "2024-02-11T16:24:52.263090Z"
    }
   },
   "id": "563d2308c87636e5",
   "execution_count": 8
  },
  {
   "cell_type": "code",
   "outputs": [],
   "source": [],
   "metadata": {
    "collapsed": false
   },
   "id": "b6c14f723b894421"
  }
 ],
 "metadata": {
  "kernelspec": {
   "display_name": "Python 3",
   "language": "python",
   "name": "python3"
  },
  "language_info": {
   "codemirror_mode": {
    "name": "ipython",
    "version": 2
   },
   "file_extension": ".py",
   "mimetype": "text/x-python",
   "name": "python",
   "nbconvert_exporter": "python",
   "pygments_lexer": "ipython2",
   "version": "2.7.6"
  }
 },
 "nbformat": 4,
 "nbformat_minor": 5
}
