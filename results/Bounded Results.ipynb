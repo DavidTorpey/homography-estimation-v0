{
 "cells": [
  {
   "cell_type": "code",
   "execution_count": 1,
   "id": "initial_id",
   "metadata": {
    "collapsed": true,
    "ExecuteTime": {
     "end_time": "2024-02-13T20:38:41.866492500Z",
     "start_time": "2024-02-13T20:38:41.298355800Z"
    }
   },
   "outputs": [],
   "source": [
    "import pandas as pd\n",
    "from scipy.stats import ttest_ind"
   ]
  },
  {
   "cell_type": "code",
   "outputs": [
    {
     "data": {
      "text/plain": "                   model       acc     dataset affine-type\n15         simclr-affine  0.551100     cifar10     default\n16         simclr-affine  0.551000     cifar10     default\n17         simclr-affine  0.549000     cifar10     default\n18         simclr-affine  0.550400     cifar10     default\n19         simclr-affine  0.553400     cifar10     default\n20         simclr-affine  0.287000    cifar100     default\n21         simclr-affine  0.286000    cifar100     default\n22         simclr-affine  0.285400    cifar100     default\n23         simclr-affine  0.285600    cifar100     default\n24         simclr-affine  0.286000    cifar100     default\n25         simclr-affine  0.622198  caltech101     default\n26         simclr-affine  0.618371  caltech101     default\n27         simclr-affine  0.626025  caltech101     default\n28         simclr-affine  0.626025  caltech101     default\n29         simclr-affine  0.624385  caltech101     default\n45           byol-affine  0.525800     cifar10     default\n46           byol-affine  0.522200     cifar10     default\n47           byol-affine  0.521300     cifar10     default\n48           byol-affine  0.523600     cifar10     default\n49           byol-affine  0.521500     cifar10     default\n50           byol-affine  0.256300    cifar100     default\n51           byol-affine  0.261000    cifar100     default\n52           byol-affine  0.259600    cifar100     default\n53           byol-affine  0.261600    cifar100     default\n54           byol-affine  0.254600    cifar100     default\n55           byol-affine  0.578458  caltech101     default\n56           byol-affine  0.588300  caltech101     default\n57           byol-affine  0.593767  caltech101     default\n58           byol-affine  0.576271  caltech101     default\n59           byol-affine  0.585566  caltech101     default\n90   barlow_twins-affine  0.531700     cifar10     default\n91   barlow_twins-affine  0.529600     cifar10     default\n92   barlow_twins-affine  0.526500     cifar10     default\n93   barlow_twins-affine  0.528000     cifar10     default\n94   barlow_twins-affine  0.524800     cifar10     default\n95   barlow_twins-affine  0.262500    cifar100     default\n96   barlow_twins-affine  0.263100    cifar100     default\n97   barlow_twins-affine  0.262900    cifar100     default\n98   barlow_twins-affine  0.260700    cifar100     default\n99   barlow_twins-affine  0.262100    cifar100     default\n100  barlow_twins-affine  0.593767  caltech101     default\n101  barlow_twins-affine  0.595407  caltech101     default\n102  barlow_twins-affine  0.571350  caltech101     default\n103  barlow_twins-affine  0.583926  caltech101     default\n104  barlow_twins-affine  0.589393  caltech101     default",
      "text/html": "<div>\n<style scoped>\n    .dataframe tbody tr th:only-of-type {\n        vertical-align: middle;\n    }\n\n    .dataframe tbody tr th {\n        vertical-align: top;\n    }\n\n    .dataframe thead th {\n        text-align: right;\n    }\n</style>\n<table border=\"1\" class=\"dataframe\">\n  <thead>\n    <tr style=\"text-align: right;\">\n      <th></th>\n      <th>model</th>\n      <th>acc</th>\n      <th>dataset</th>\n      <th>affine-type</th>\n    </tr>\n  </thead>\n  <tbody>\n    <tr>\n      <th>15</th>\n      <td>simclr-affine</td>\n      <td>0.551100</td>\n      <td>cifar10</td>\n      <td>default</td>\n    </tr>\n    <tr>\n      <th>16</th>\n      <td>simclr-affine</td>\n      <td>0.551000</td>\n      <td>cifar10</td>\n      <td>default</td>\n    </tr>\n    <tr>\n      <th>17</th>\n      <td>simclr-affine</td>\n      <td>0.549000</td>\n      <td>cifar10</td>\n      <td>default</td>\n    </tr>\n    <tr>\n      <th>18</th>\n      <td>simclr-affine</td>\n      <td>0.550400</td>\n      <td>cifar10</td>\n      <td>default</td>\n    </tr>\n    <tr>\n      <th>19</th>\n      <td>simclr-affine</td>\n      <td>0.553400</td>\n      <td>cifar10</td>\n      <td>default</td>\n    </tr>\n    <tr>\n      <th>20</th>\n      <td>simclr-affine</td>\n      <td>0.287000</td>\n      <td>cifar100</td>\n      <td>default</td>\n    </tr>\n    <tr>\n      <th>21</th>\n      <td>simclr-affine</td>\n      <td>0.286000</td>\n      <td>cifar100</td>\n      <td>default</td>\n    </tr>\n    <tr>\n      <th>22</th>\n      <td>simclr-affine</td>\n      <td>0.285400</td>\n      <td>cifar100</td>\n      <td>default</td>\n    </tr>\n    <tr>\n      <th>23</th>\n      <td>simclr-affine</td>\n      <td>0.285600</td>\n      <td>cifar100</td>\n      <td>default</td>\n    </tr>\n    <tr>\n      <th>24</th>\n      <td>simclr-affine</td>\n      <td>0.286000</td>\n      <td>cifar100</td>\n      <td>default</td>\n    </tr>\n    <tr>\n      <th>25</th>\n      <td>simclr-affine</td>\n      <td>0.622198</td>\n      <td>caltech101</td>\n      <td>default</td>\n    </tr>\n    <tr>\n      <th>26</th>\n      <td>simclr-affine</td>\n      <td>0.618371</td>\n      <td>caltech101</td>\n      <td>default</td>\n    </tr>\n    <tr>\n      <th>27</th>\n      <td>simclr-affine</td>\n      <td>0.626025</td>\n      <td>caltech101</td>\n      <td>default</td>\n    </tr>\n    <tr>\n      <th>28</th>\n      <td>simclr-affine</td>\n      <td>0.626025</td>\n      <td>caltech101</td>\n      <td>default</td>\n    </tr>\n    <tr>\n      <th>29</th>\n      <td>simclr-affine</td>\n      <td>0.624385</td>\n      <td>caltech101</td>\n      <td>default</td>\n    </tr>\n    <tr>\n      <th>45</th>\n      <td>byol-affine</td>\n      <td>0.525800</td>\n      <td>cifar10</td>\n      <td>default</td>\n    </tr>\n    <tr>\n      <th>46</th>\n      <td>byol-affine</td>\n      <td>0.522200</td>\n      <td>cifar10</td>\n      <td>default</td>\n    </tr>\n    <tr>\n      <th>47</th>\n      <td>byol-affine</td>\n      <td>0.521300</td>\n      <td>cifar10</td>\n      <td>default</td>\n    </tr>\n    <tr>\n      <th>48</th>\n      <td>byol-affine</td>\n      <td>0.523600</td>\n      <td>cifar10</td>\n      <td>default</td>\n    </tr>\n    <tr>\n      <th>49</th>\n      <td>byol-affine</td>\n      <td>0.521500</td>\n      <td>cifar10</td>\n      <td>default</td>\n    </tr>\n    <tr>\n      <th>50</th>\n      <td>byol-affine</td>\n      <td>0.256300</td>\n      <td>cifar100</td>\n      <td>default</td>\n    </tr>\n    <tr>\n      <th>51</th>\n      <td>byol-affine</td>\n      <td>0.261000</td>\n      <td>cifar100</td>\n      <td>default</td>\n    </tr>\n    <tr>\n      <th>52</th>\n      <td>byol-affine</td>\n      <td>0.259600</td>\n      <td>cifar100</td>\n      <td>default</td>\n    </tr>\n    <tr>\n      <th>53</th>\n      <td>byol-affine</td>\n      <td>0.261600</td>\n      <td>cifar100</td>\n      <td>default</td>\n    </tr>\n    <tr>\n      <th>54</th>\n      <td>byol-affine</td>\n      <td>0.254600</td>\n      <td>cifar100</td>\n      <td>default</td>\n    </tr>\n    <tr>\n      <th>55</th>\n      <td>byol-affine</td>\n      <td>0.578458</td>\n      <td>caltech101</td>\n      <td>default</td>\n    </tr>\n    <tr>\n      <th>56</th>\n      <td>byol-affine</td>\n      <td>0.588300</td>\n      <td>caltech101</td>\n      <td>default</td>\n    </tr>\n    <tr>\n      <th>57</th>\n      <td>byol-affine</td>\n      <td>0.593767</td>\n      <td>caltech101</td>\n      <td>default</td>\n    </tr>\n    <tr>\n      <th>58</th>\n      <td>byol-affine</td>\n      <td>0.576271</td>\n      <td>caltech101</td>\n      <td>default</td>\n    </tr>\n    <tr>\n      <th>59</th>\n      <td>byol-affine</td>\n      <td>0.585566</td>\n      <td>caltech101</td>\n      <td>default</td>\n    </tr>\n    <tr>\n      <th>90</th>\n      <td>barlow_twins-affine</td>\n      <td>0.531700</td>\n      <td>cifar10</td>\n      <td>default</td>\n    </tr>\n    <tr>\n      <th>91</th>\n      <td>barlow_twins-affine</td>\n      <td>0.529600</td>\n      <td>cifar10</td>\n      <td>default</td>\n    </tr>\n    <tr>\n      <th>92</th>\n      <td>barlow_twins-affine</td>\n      <td>0.526500</td>\n      <td>cifar10</td>\n      <td>default</td>\n    </tr>\n    <tr>\n      <th>93</th>\n      <td>barlow_twins-affine</td>\n      <td>0.528000</td>\n      <td>cifar10</td>\n      <td>default</td>\n    </tr>\n    <tr>\n      <th>94</th>\n      <td>barlow_twins-affine</td>\n      <td>0.524800</td>\n      <td>cifar10</td>\n      <td>default</td>\n    </tr>\n    <tr>\n      <th>95</th>\n      <td>barlow_twins-affine</td>\n      <td>0.262500</td>\n      <td>cifar100</td>\n      <td>default</td>\n    </tr>\n    <tr>\n      <th>96</th>\n      <td>barlow_twins-affine</td>\n      <td>0.263100</td>\n      <td>cifar100</td>\n      <td>default</td>\n    </tr>\n    <tr>\n      <th>97</th>\n      <td>barlow_twins-affine</td>\n      <td>0.262900</td>\n      <td>cifar100</td>\n      <td>default</td>\n    </tr>\n    <tr>\n      <th>98</th>\n      <td>barlow_twins-affine</td>\n      <td>0.260700</td>\n      <td>cifar100</td>\n      <td>default</td>\n    </tr>\n    <tr>\n      <th>99</th>\n      <td>barlow_twins-affine</td>\n      <td>0.262100</td>\n      <td>cifar100</td>\n      <td>default</td>\n    </tr>\n    <tr>\n      <th>100</th>\n      <td>barlow_twins-affine</td>\n      <td>0.593767</td>\n      <td>caltech101</td>\n      <td>default</td>\n    </tr>\n    <tr>\n      <th>101</th>\n      <td>barlow_twins-affine</td>\n      <td>0.595407</td>\n      <td>caltech101</td>\n      <td>default</td>\n    </tr>\n    <tr>\n      <th>102</th>\n      <td>barlow_twins-affine</td>\n      <td>0.571350</td>\n      <td>caltech101</td>\n      <td>default</td>\n    </tr>\n    <tr>\n      <th>103</th>\n      <td>barlow_twins-affine</td>\n      <td>0.583926</td>\n      <td>caltech101</td>\n      <td>default</td>\n    </tr>\n    <tr>\n      <th>104</th>\n      <td>barlow_twins-affine</td>\n      <td>0.589393</td>\n      <td>caltech101</td>\n      <td>default</td>\n    </tr>\n  </tbody>\n</table>\n</div>"
     },
     "execution_count": 2,
     "metadata": {},
     "output_type": "execute_result"
    }
   ],
   "source": [
    "baseline_df = pd.read_csv('main-results-raw.csv')\n",
    "baseline_df['affine-type'] = 'default'\n",
    "baseline_df = baseline_df[baseline_df['model'] != 'barlow_twins-affine']\n",
    "baseline_df['model'] = baseline_df['model'].map(lambda x: x if x != 'barlow_twins-affine-investigate-losses' else 'barlow_twins-affine')\n",
    "baseline_df = baseline_df[~baseline_df['model'].isin(['simclr', 'byol', 'barlow_twins'])]\n",
    "baseline_df"
   ],
   "metadata": {
    "collapsed": false,
    "ExecuteTime": {
     "end_time": "2024-02-13T20:38:53.855250Z",
     "start_time": "2024-02-13T20:38:53.800336500Z"
    }
   },
   "id": "cc645392a5a83184",
   "execution_count": 2
  },
  {
   "cell_type": "code",
   "outputs": [
    {
     "data": {
      "text/plain": "                  model       acc     dataset affine-type\n0         simclr-affine  0.561800     cifar10     bounded\n1         simclr-affine  0.561700     cifar10     bounded\n2         simclr-affine  0.558300     cifar10     bounded\n3         simclr-affine  0.557900     cifar10     bounded\n4         simclr-affine  0.561200     cifar10     bounded\n5         simclr-affine  0.299200    cifar100     bounded\n6         simclr-affine  0.296200    cifar100     bounded\n7         simclr-affine  0.298700    cifar100     bounded\n8         simclr-affine  0.295800    cifar100     bounded\n9         simclr-affine  0.299900    cifar100     bounded\n10        simclr-affine  0.620011  caltech101     bounded\n11        simclr-affine  0.610169  caltech101     bounded\n12        simclr-affine  0.613997  caltech101     bounded\n13        simclr-affine  0.617277  caltech101     bounded\n14        simclr-affine  0.600875  caltech101     bounded\n15          byol-affine  0.517000     cifar10     bounded\n16          byol-affine  0.519100     cifar10     bounded\n17          byol-affine  0.514100     cifar10     bounded\n18          byol-affine  0.515900     cifar10     bounded\n19          byol-affine  0.516900     cifar10     bounded\n20          byol-affine  0.252700    cifar100     bounded\n21          byol-affine  0.254500    cifar100     bounded\n22          byol-affine  0.251100    cifar100     bounded\n23          byol-affine  0.252400    cifar100     bounded\n24          byol-affine  0.255000    cifar100     bounded\n25          byol-affine  0.563149  caltech101     bounded\n26          byol-affine  0.562056  caltech101     bounded\n27          byol-affine  0.569163  caltech101     bounded\n28          byol-affine  0.569710  caltech101     bounded\n29          byol-affine  0.553308  caltech101     bounded\n45  barlow_twins-affine  0.518700     cifar10     bounded\n46  barlow_twins-affine  0.518300     cifar10     bounded\n47  barlow_twins-affine  0.517000     cifar10     bounded\n48  barlow_twins-affine  0.520200     cifar10     bounded\n49  barlow_twins-affine  0.517300     cifar10     bounded\n50  barlow_twins-affine  0.246600    cifar100     bounded\n51  barlow_twins-affine  0.252200    cifar100     bounded\n52  barlow_twins-affine  0.247700    cifar100     bounded\n53  barlow_twins-affine  0.249200    cifar100     bounded\n54  barlow_twins-affine  0.254000    cifar100     bounded\n55  barlow_twins-affine  0.572444  caltech101     bounded\n56  barlow_twins-affine  0.570804  caltech101     bounded\n57  barlow_twins-affine  0.568070  caltech101     bounded\n58  barlow_twins-affine  0.572991  caltech101     bounded\n59  barlow_twins-affine  0.584472  caltech101     bounded",
      "text/html": "<div>\n<style scoped>\n    .dataframe tbody tr th:only-of-type {\n        vertical-align: middle;\n    }\n\n    .dataframe tbody tr th {\n        vertical-align: top;\n    }\n\n    .dataframe thead th {\n        text-align: right;\n    }\n</style>\n<table border=\"1\" class=\"dataframe\">\n  <thead>\n    <tr style=\"text-align: right;\">\n      <th></th>\n      <th>model</th>\n      <th>acc</th>\n      <th>dataset</th>\n      <th>affine-type</th>\n    </tr>\n  </thead>\n  <tbody>\n    <tr>\n      <th>0</th>\n      <td>simclr-affine</td>\n      <td>0.561800</td>\n      <td>cifar10</td>\n      <td>bounded</td>\n    </tr>\n    <tr>\n      <th>1</th>\n      <td>simclr-affine</td>\n      <td>0.561700</td>\n      <td>cifar10</td>\n      <td>bounded</td>\n    </tr>\n    <tr>\n      <th>2</th>\n      <td>simclr-affine</td>\n      <td>0.558300</td>\n      <td>cifar10</td>\n      <td>bounded</td>\n    </tr>\n    <tr>\n      <th>3</th>\n      <td>simclr-affine</td>\n      <td>0.557900</td>\n      <td>cifar10</td>\n      <td>bounded</td>\n    </tr>\n    <tr>\n      <th>4</th>\n      <td>simclr-affine</td>\n      <td>0.561200</td>\n      <td>cifar10</td>\n      <td>bounded</td>\n    </tr>\n    <tr>\n      <th>5</th>\n      <td>simclr-affine</td>\n      <td>0.299200</td>\n      <td>cifar100</td>\n      <td>bounded</td>\n    </tr>\n    <tr>\n      <th>6</th>\n      <td>simclr-affine</td>\n      <td>0.296200</td>\n      <td>cifar100</td>\n      <td>bounded</td>\n    </tr>\n    <tr>\n      <th>7</th>\n      <td>simclr-affine</td>\n      <td>0.298700</td>\n      <td>cifar100</td>\n      <td>bounded</td>\n    </tr>\n    <tr>\n      <th>8</th>\n      <td>simclr-affine</td>\n      <td>0.295800</td>\n      <td>cifar100</td>\n      <td>bounded</td>\n    </tr>\n    <tr>\n      <th>9</th>\n      <td>simclr-affine</td>\n      <td>0.299900</td>\n      <td>cifar100</td>\n      <td>bounded</td>\n    </tr>\n    <tr>\n      <th>10</th>\n      <td>simclr-affine</td>\n      <td>0.620011</td>\n      <td>caltech101</td>\n      <td>bounded</td>\n    </tr>\n    <tr>\n      <th>11</th>\n      <td>simclr-affine</td>\n      <td>0.610169</td>\n      <td>caltech101</td>\n      <td>bounded</td>\n    </tr>\n    <tr>\n      <th>12</th>\n      <td>simclr-affine</td>\n      <td>0.613997</td>\n      <td>caltech101</td>\n      <td>bounded</td>\n    </tr>\n    <tr>\n      <th>13</th>\n      <td>simclr-affine</td>\n      <td>0.617277</td>\n      <td>caltech101</td>\n      <td>bounded</td>\n    </tr>\n    <tr>\n      <th>14</th>\n      <td>simclr-affine</td>\n      <td>0.600875</td>\n      <td>caltech101</td>\n      <td>bounded</td>\n    </tr>\n    <tr>\n      <th>15</th>\n      <td>byol-affine</td>\n      <td>0.517000</td>\n      <td>cifar10</td>\n      <td>bounded</td>\n    </tr>\n    <tr>\n      <th>16</th>\n      <td>byol-affine</td>\n      <td>0.519100</td>\n      <td>cifar10</td>\n      <td>bounded</td>\n    </tr>\n    <tr>\n      <th>17</th>\n      <td>byol-affine</td>\n      <td>0.514100</td>\n      <td>cifar10</td>\n      <td>bounded</td>\n    </tr>\n    <tr>\n      <th>18</th>\n      <td>byol-affine</td>\n      <td>0.515900</td>\n      <td>cifar10</td>\n      <td>bounded</td>\n    </tr>\n    <tr>\n      <th>19</th>\n      <td>byol-affine</td>\n      <td>0.516900</td>\n      <td>cifar10</td>\n      <td>bounded</td>\n    </tr>\n    <tr>\n      <th>20</th>\n      <td>byol-affine</td>\n      <td>0.252700</td>\n      <td>cifar100</td>\n      <td>bounded</td>\n    </tr>\n    <tr>\n      <th>21</th>\n      <td>byol-affine</td>\n      <td>0.254500</td>\n      <td>cifar100</td>\n      <td>bounded</td>\n    </tr>\n    <tr>\n      <th>22</th>\n      <td>byol-affine</td>\n      <td>0.251100</td>\n      <td>cifar100</td>\n      <td>bounded</td>\n    </tr>\n    <tr>\n      <th>23</th>\n      <td>byol-affine</td>\n      <td>0.252400</td>\n      <td>cifar100</td>\n      <td>bounded</td>\n    </tr>\n    <tr>\n      <th>24</th>\n      <td>byol-affine</td>\n      <td>0.255000</td>\n      <td>cifar100</td>\n      <td>bounded</td>\n    </tr>\n    <tr>\n      <th>25</th>\n      <td>byol-affine</td>\n      <td>0.563149</td>\n      <td>caltech101</td>\n      <td>bounded</td>\n    </tr>\n    <tr>\n      <th>26</th>\n      <td>byol-affine</td>\n      <td>0.562056</td>\n      <td>caltech101</td>\n      <td>bounded</td>\n    </tr>\n    <tr>\n      <th>27</th>\n      <td>byol-affine</td>\n      <td>0.569163</td>\n      <td>caltech101</td>\n      <td>bounded</td>\n    </tr>\n    <tr>\n      <th>28</th>\n      <td>byol-affine</td>\n      <td>0.569710</td>\n      <td>caltech101</td>\n      <td>bounded</td>\n    </tr>\n    <tr>\n      <th>29</th>\n      <td>byol-affine</td>\n      <td>0.553308</td>\n      <td>caltech101</td>\n      <td>bounded</td>\n    </tr>\n    <tr>\n      <th>45</th>\n      <td>barlow_twins-affine</td>\n      <td>0.518700</td>\n      <td>cifar10</td>\n      <td>bounded</td>\n    </tr>\n    <tr>\n      <th>46</th>\n      <td>barlow_twins-affine</td>\n      <td>0.518300</td>\n      <td>cifar10</td>\n      <td>bounded</td>\n    </tr>\n    <tr>\n      <th>47</th>\n      <td>barlow_twins-affine</td>\n      <td>0.517000</td>\n      <td>cifar10</td>\n      <td>bounded</td>\n    </tr>\n    <tr>\n      <th>48</th>\n      <td>barlow_twins-affine</td>\n      <td>0.520200</td>\n      <td>cifar10</td>\n      <td>bounded</td>\n    </tr>\n    <tr>\n      <th>49</th>\n      <td>barlow_twins-affine</td>\n      <td>0.517300</td>\n      <td>cifar10</td>\n      <td>bounded</td>\n    </tr>\n    <tr>\n      <th>50</th>\n      <td>barlow_twins-affine</td>\n      <td>0.246600</td>\n      <td>cifar100</td>\n      <td>bounded</td>\n    </tr>\n    <tr>\n      <th>51</th>\n      <td>barlow_twins-affine</td>\n      <td>0.252200</td>\n      <td>cifar100</td>\n      <td>bounded</td>\n    </tr>\n    <tr>\n      <th>52</th>\n      <td>barlow_twins-affine</td>\n      <td>0.247700</td>\n      <td>cifar100</td>\n      <td>bounded</td>\n    </tr>\n    <tr>\n      <th>53</th>\n      <td>barlow_twins-affine</td>\n      <td>0.249200</td>\n      <td>cifar100</td>\n      <td>bounded</td>\n    </tr>\n    <tr>\n      <th>54</th>\n      <td>barlow_twins-affine</td>\n      <td>0.254000</td>\n      <td>cifar100</td>\n      <td>bounded</td>\n    </tr>\n    <tr>\n      <th>55</th>\n      <td>barlow_twins-affine</td>\n      <td>0.572444</td>\n      <td>caltech101</td>\n      <td>bounded</td>\n    </tr>\n    <tr>\n      <th>56</th>\n      <td>barlow_twins-affine</td>\n      <td>0.570804</td>\n      <td>caltech101</td>\n      <td>bounded</td>\n    </tr>\n    <tr>\n      <th>57</th>\n      <td>barlow_twins-affine</td>\n      <td>0.568070</td>\n      <td>caltech101</td>\n      <td>bounded</td>\n    </tr>\n    <tr>\n      <th>58</th>\n      <td>barlow_twins-affine</td>\n      <td>0.572991</td>\n      <td>caltech101</td>\n      <td>bounded</td>\n    </tr>\n    <tr>\n      <th>59</th>\n      <td>barlow_twins-affine</td>\n      <td>0.584472</td>\n      <td>caltech101</td>\n      <td>bounded</td>\n    </tr>\n  </tbody>\n</table>\n</div>"
     },
     "execution_count": 12,
     "metadata": {},
     "output_type": "execute_result"
    }
   ],
   "source": [
    "bounded_df = pd.read_csv('bounded-results-raw.csv')\n",
    "bounded_df['affine-type'] = 'bounded'\n",
    "bounded_df['model'] = bounded_df['model'].map(lambda x: x.replace('-bounded', ''))\n",
    "bounded_df = bounded_df[bounded_df['model'] != 'barlow_twins-affine']\n",
    "bounded_df['model'] = bounded_df['model'].map(lambda x: x if x != 'barlow_twins-affine-investigate-losses' else 'barlow_twins-affine')\n",
    "bounded_df"
   ],
   "metadata": {
    "collapsed": false,
    "ExecuteTime": {
     "end_time": "2024-02-13T20:42:43.958654600Z",
     "start_time": "2024-02-13T20:42:43.930158600Z"
    }
   },
   "id": "7c200efae2ab3f86",
   "execution_count": 12
  },
  {
   "cell_type": "code",
   "outputs": [
    {
     "data": {
      "text/plain": "                  model       acc     dataset affine-type\n15        simclr-affine  0.551100     cifar10     default\n16        simclr-affine  0.551000     cifar10     default\n17        simclr-affine  0.549000     cifar10     default\n18        simclr-affine  0.550400     cifar10     default\n19        simclr-affine  0.553400     cifar10     default\n..                  ...       ...         ...         ...\n55  barlow_twins-affine  0.572444  caltech101     bounded\n56  barlow_twins-affine  0.570804  caltech101     bounded\n57  barlow_twins-affine  0.568070  caltech101     bounded\n58  barlow_twins-affine  0.572991  caltech101     bounded\n59  barlow_twins-affine  0.584472  caltech101     bounded\n\n[90 rows x 4 columns]",
      "text/html": "<div>\n<style scoped>\n    .dataframe tbody tr th:only-of-type {\n        vertical-align: middle;\n    }\n\n    .dataframe tbody tr th {\n        vertical-align: top;\n    }\n\n    .dataframe thead th {\n        text-align: right;\n    }\n</style>\n<table border=\"1\" class=\"dataframe\">\n  <thead>\n    <tr style=\"text-align: right;\">\n      <th></th>\n      <th>model</th>\n      <th>acc</th>\n      <th>dataset</th>\n      <th>affine-type</th>\n    </tr>\n  </thead>\n  <tbody>\n    <tr>\n      <th>15</th>\n      <td>simclr-affine</td>\n      <td>0.551100</td>\n      <td>cifar10</td>\n      <td>default</td>\n    </tr>\n    <tr>\n      <th>16</th>\n      <td>simclr-affine</td>\n      <td>0.551000</td>\n      <td>cifar10</td>\n      <td>default</td>\n    </tr>\n    <tr>\n      <th>17</th>\n      <td>simclr-affine</td>\n      <td>0.549000</td>\n      <td>cifar10</td>\n      <td>default</td>\n    </tr>\n    <tr>\n      <th>18</th>\n      <td>simclr-affine</td>\n      <td>0.550400</td>\n      <td>cifar10</td>\n      <td>default</td>\n    </tr>\n    <tr>\n      <th>19</th>\n      <td>simclr-affine</td>\n      <td>0.553400</td>\n      <td>cifar10</td>\n      <td>default</td>\n    </tr>\n    <tr>\n      <th>...</th>\n      <td>...</td>\n      <td>...</td>\n      <td>...</td>\n      <td>...</td>\n    </tr>\n    <tr>\n      <th>55</th>\n      <td>barlow_twins-affine</td>\n      <td>0.572444</td>\n      <td>caltech101</td>\n      <td>bounded</td>\n    </tr>\n    <tr>\n      <th>56</th>\n      <td>barlow_twins-affine</td>\n      <td>0.570804</td>\n      <td>caltech101</td>\n      <td>bounded</td>\n    </tr>\n    <tr>\n      <th>57</th>\n      <td>barlow_twins-affine</td>\n      <td>0.568070</td>\n      <td>caltech101</td>\n      <td>bounded</td>\n    </tr>\n    <tr>\n      <th>58</th>\n      <td>barlow_twins-affine</td>\n      <td>0.572991</td>\n      <td>caltech101</td>\n      <td>bounded</td>\n    </tr>\n    <tr>\n      <th>59</th>\n      <td>barlow_twins-affine</td>\n      <td>0.584472</td>\n      <td>caltech101</td>\n      <td>bounded</td>\n    </tr>\n  </tbody>\n</table>\n<p>90 rows × 4 columns</p>\n</div>"
     },
     "execution_count": 13,
     "metadata": {},
     "output_type": "execute_result"
    }
   ],
   "source": [
    "df = pd.concat([baseline_df, bounded_df])\n",
    "df"
   ],
   "metadata": {
    "collapsed": false,
    "ExecuteTime": {
     "end_time": "2024-02-13T20:42:44.166625Z",
     "start_time": "2024-02-13T20:42:44.088097100Z"
    }
   },
   "id": "4ff7026f0fc146b",
   "execution_count": 13
  },
  {
   "cell_type": "code",
   "outputs": [
    {
     "name": "stdout",
     "output_type": "stream",
     "text": [
      "simclr-affine cifar10 Ttest_indResult(statistic=8.255853914191572, pvalue=3.478940137712224e-05)\n",
      "simclr-affine cifar100 Ttest_indResult(statistic=13.749851608071616, pvalue=7.551185667218906e-07)\n",
      "simclr-affine caltech101 Ttest_indResult(statistic=-3.0123761656438526, pvalue=0.01675281170920108)\n",
      "byol-affine cifar10 Ttest_indResult(statistic=-5.3902104454223245, pvalue=0.0006536117744374243)\n",
      "byol-affine cifar100 Ttest_indResult(statistic=-3.564911047198671, pvalue=0.0073479420304526895)\n",
      "byol-affine caltech101 Ttest_indResult(statistic=-4.801500703491428, pvalue=0.0013529391232121916)\n",
      "barlow_twins-affine cifar10 Ttest_indResult(statistic=-7.40968547592941, pvalue=7.549281721662284e-05)\n",
      "barlow_twins-affine cifar100 Ttest_indResult(statistic=-8.507281103601887, pvalue=2.7978707922359184e-05)\n",
      "barlow_twins-affine caltech101 Ttest_indResult(statistic=-2.5171447906490796, pvalue=0.03596837930115016)\n"
     ]
    }
   ],
   "source": [
    "for model in df['model'].unique():\n",
    "    for dataset in df['dataset'].unique():\n",
    "        subset = df.query(f'model == \"{model}\" & dataset == \"{dataset}\"')\n",
    "        baseline = subset.query('`affine-type` == \"default\"')['acc'].values\n",
    "        variant = subset.query('`affine-type` == \"bounded\"')['acc'].values\n",
    "        ttest = ttest_ind(variant, baseline)\n",
    "        if ttest.pvalue < 0.05:\n",
    "            print(model, dataset, ttest)\n",
    "        else:\n",
    "            print('NOT SIGNIFICANT', model, dataset, ttest)"
   ],
   "metadata": {
    "collapsed": false,
    "ExecuteTime": {
     "end_time": "2024-02-13T20:42:44.367716Z",
     "start_time": "2024-02-13T20:42:44.305517500Z"
    }
   },
   "id": "95c6d7f94abe9c7a",
   "execution_count": 14
  },
  {
   "cell_type": "code",
   "outputs": [],
   "source": [],
   "metadata": {
    "collapsed": false
   },
   "id": "2394ebe8dbe58673"
  }
 ],
 "metadata": {
  "kernelspec": {
   "display_name": "Python 3",
   "language": "python",
   "name": "python3"
  },
  "language_info": {
   "codemirror_mode": {
    "name": "ipython",
    "version": 2
   },
   "file_extension": ".py",
   "mimetype": "text/x-python",
   "name": "python",
   "nbconvert_exporter": "python",
   "pygments_lexer": "ipython2",
   "version": "2.7.6"
  }
 },
 "nbformat": 4,
 "nbformat_minor": 5
}
